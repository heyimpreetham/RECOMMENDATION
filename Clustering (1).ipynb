{
 "cells": [
  {
   "cell_type": "code",
   "execution_count": 1,
   "metadata": {},
   "outputs": [],
   "source": [
    "import pandas as pd\n",
    "import numpy as np"
   ]
  },
  {
   "cell_type": "code",
   "execution_count": 2,
   "metadata": {},
   "outputs": [],
   "source": [
    "df = pd.read_csv('tmdb_5000_movies.csv')"
   ]
  },
  {
   "cell_type": "code",
   "execution_count": 64,
   "metadata": {},
   "outputs": [
    {
     "data": {
      "text/html": [
       "<div>\n",
       "<style scoped>\n",
       "    .dataframe tbody tr th:only-of-type {\n",
       "        vertical-align: middle;\n",
       "    }\n",
       "\n",
       "    .dataframe tbody tr th {\n",
       "        vertical-align: top;\n",
       "    }\n",
       "\n",
       "    .dataframe thead th {\n",
       "        text-align: right;\n",
       "    }\n",
       "</style>\n",
       "<table border=\"1\" class=\"dataframe\">\n",
       "  <thead>\n",
       "    <tr style=\"text-align: right;\">\n",
       "      <th></th>\n",
       "      <th>title</th>\n",
       "      <th>vote_count</th>\n",
       "      <th>vote_average</th>\n",
       "      <th>runtime</th>\n",
       "      <th>genres</th>\n",
       "      <th>overview</th>\n",
       "      <th>score</th>\n",
       "      <th>cluster</th>\n",
       "    </tr>\n",
       "  </thead>\n",
       "  <tbody>\n",
       "    <tr>\n",
       "      <th>0</th>\n",
       "      <td>Avatar</td>\n",
       "      <td>11800</td>\n",
       "      <td>7.2</td>\n",
       "      <td>162.0</td>\n",
       "      <td>Action,Adventure,Fantasy,Science Fiction</td>\n",
       "      <td>In the 22nd century, a paraplegic Marine is di...</td>\n",
       "      <td>7846.981934</td>\n",
       "      <td>10</td>\n",
       "    </tr>\n",
       "    <tr>\n",
       "      <th>1</th>\n",
       "      <td>Pirates of the Caribbean: At World's End</td>\n",
       "      <td>4500</td>\n",
       "      <td>6.9</td>\n",
       "      <td>169.0</td>\n",
       "      <td>Adventure,Fantasy,Action</td>\n",
       "      <td>Captain Barbossa, long believed to be dead, ha...</td>\n",
       "      <td>3021.510742</td>\n",
       "      <td>4</td>\n",
       "    </tr>\n",
       "    <tr>\n",
       "      <th>2</th>\n",
       "      <td>Spectre</td>\n",
       "      <td>4466</td>\n",
       "      <td>6.3</td>\n",
       "      <td>148.0</td>\n",
       "      <td>Action,Adventure,Crime</td>\n",
       "      <td>A cryptic message from Bond’s past sends him o...</td>\n",
       "      <td>2993.343750</td>\n",
       "      <td>3</td>\n",
       "    </tr>\n",
       "    <tr>\n",
       "      <th>3</th>\n",
       "      <td>The Dark Knight Rises</td>\n",
       "      <td>9106</td>\n",
       "      <td>7.6</td>\n",
       "      <td>165.0</td>\n",
       "      <td>Action,Crime,Drama,Thriller</td>\n",
       "      <td>Following the death of District Attorney Harve...</td>\n",
       "      <td>6066.297852</td>\n",
       "      <td>8</td>\n",
       "    </tr>\n",
       "    <tr>\n",
       "      <th>4</th>\n",
       "      <td>John Carter</td>\n",
       "      <td>2124</td>\n",
       "      <td>6.1</td>\n",
       "      <td>132.0</td>\n",
       "      <td>Action,Adventure,Science Fiction</td>\n",
       "      <td>John Carter is a war-weary, former military ca...</td>\n",
       "      <td>1440.288818</td>\n",
       "      <td>0</td>\n",
       "    </tr>\n",
       "  </tbody>\n",
       "</table>\n",
       "</div>"
      ],
      "text/plain": [
       "                                      title  vote_count  vote_average  \\\n",
       "0                                    Avatar       11800           7.2   \n",
       "1  Pirates of the Caribbean: At World's End        4500           6.9   \n",
       "2                                   Spectre        4466           6.3   \n",
       "3                     The Dark Knight Rises        9106           7.6   \n",
       "4                               John Carter        2124           6.1   \n",
       "\n",
       "   runtime                                    genres  \\\n",
       "0    162.0  Action,Adventure,Fantasy,Science Fiction   \n",
       "1    169.0                  Adventure,Fantasy,Action   \n",
       "2    148.0                    Action,Adventure,Crime   \n",
       "3    165.0               Action,Crime,Drama,Thriller   \n",
       "4    132.0          Action,Adventure,Science Fiction   \n",
       "\n",
       "                                            overview        score  cluster  \n",
       "0  In the 22nd century, a paraplegic Marine is di...  7846.981934       10  \n",
       "1  Captain Barbossa, long believed to be dead, ha...  3021.510742        4  \n",
       "2  A cryptic message from Bond’s past sends him o...  2993.343750        3  \n",
       "3  Following the death of District Attorney Harve...  6066.297852        8  \n",
       "4  John Carter is a war-weary, former military ca...  1440.288818        0  "
      ]
     },
     "execution_count": 64,
     "metadata": {},
     "output_type": "execute_result"
    }
   ],
   "source": [
    "df.head()"
   ]
  },
  {
   "cell_type": "code",
   "execution_count": 4,
   "metadata": {},
   "outputs": [
    {
     "data": {
      "text/plain": [
       "(4803, 20)"
      ]
     },
     "execution_count": 4,
     "metadata": {},
     "output_type": "execute_result"
    }
   ],
   "source": [
    "df.shape"
   ]
  },
  {
   "cell_type": "code",
   "execution_count": 5,
   "metadata": {},
   "outputs": [
    {
     "data": {
      "text/plain": [
       "budget                     0\n",
       "genres                     0\n",
       "homepage                3091\n",
       "id                         0\n",
       "keywords                   0\n",
       "original_language          0\n",
       "original_title             0\n",
       "overview                   3\n",
       "popularity                 0\n",
       "production_companies       0\n",
       "production_countries       0\n",
       "release_date               1\n",
       "revenue                    0\n",
       "runtime                    2\n",
       "spoken_languages           0\n",
       "status                     0\n",
       "tagline                  844\n",
       "title                      0\n",
       "vote_average               0\n",
       "vote_count                 0\n",
       "dtype: int64"
      ]
     },
     "execution_count": 5,
     "metadata": {},
     "output_type": "execute_result"
    }
   ],
   "source": [
    "df.isnull().sum()"
   ]
  },
  {
   "cell_type": "code",
   "execution_count": 6,
   "metadata": {},
   "outputs": [],
   "source": [
    "df = df.drop('homepage',axis = 1)"
   ]
  },
  {
   "cell_type": "code",
   "execution_count": 7,
   "metadata": {},
   "outputs": [],
   "source": [
    "df = df.drop('tagline',axis = 1)"
   ]
  },
  {
   "cell_type": "code",
   "execution_count": 8,
   "metadata": {},
   "outputs": [],
   "source": [
    "import ast"
   ]
  },
  {
   "cell_type": "code",
   "execution_count": 9,
   "metadata": {},
   "outputs": [
    {
     "name": "stderr",
     "output_type": "stream",
     "text": [
      "C:\\Users\\moksh\\anaconda3\\lib\\site-packages\\ipykernel_launcher.py:8: SettingWithCopyWarning: \n",
      "A value is trying to be set on a copy of a slice from a DataFrame\n",
      "\n",
      "See the caveats in the documentation: https://pandas.pydata.org/pandas-docs/stable/user_guide/indexing.html#returning-a-view-versus-a-copy\n",
      "  \n"
     ]
    }
   ],
   "source": [
    "\n",
    "def extract_genres(df):\n",
    "    for i in range(0,4803):\n",
    "        l = []\n",
    "        res = ast.literal_eval(df.genres[i])\n",
    "        for item in res:\n",
    "            l.append(item['name'])\n",
    "        ans = ','.join([elem for elem in l]) \n",
    "        df.genres[i] = ans\n",
    "extract_genres(df)"
   ]
  },
  {
   "cell_type": "code",
   "execution_count": 10,
   "metadata": {},
   "outputs": [],
   "source": [
    "columns = ['title','vote_count','vote_average','runtime','genres','overview']"
   ]
  },
  {
   "cell_type": "code",
   "execution_count": 11,
   "metadata": {},
   "outputs": [],
   "source": [
    "df = df[columns]"
   ]
  },
  {
   "cell_type": "code",
   "execution_count": 12,
   "metadata": {},
   "outputs": [
    {
     "data": {
      "text/html": [
       "<div>\n",
       "<style scoped>\n",
       "    .dataframe tbody tr th:only-of-type {\n",
       "        vertical-align: middle;\n",
       "    }\n",
       "\n",
       "    .dataframe tbody tr th {\n",
       "        vertical-align: top;\n",
       "    }\n",
       "\n",
       "    .dataframe thead th {\n",
       "        text-align: right;\n",
       "    }\n",
       "</style>\n",
       "<table border=\"1\" class=\"dataframe\">\n",
       "  <thead>\n",
       "    <tr style=\"text-align: right;\">\n",
       "      <th></th>\n",
       "      <th>title</th>\n",
       "      <th>vote_count</th>\n",
       "      <th>vote_average</th>\n",
       "      <th>runtime</th>\n",
       "      <th>genres</th>\n",
       "      <th>overview</th>\n",
       "    </tr>\n",
       "  </thead>\n",
       "  <tbody>\n",
       "    <tr>\n",
       "      <th>0</th>\n",
       "      <td>Avatar</td>\n",
       "      <td>11800</td>\n",
       "      <td>7.2</td>\n",
       "      <td>162.0</td>\n",
       "      <td>Action,Adventure,Fantasy,Science Fiction</td>\n",
       "      <td>In the 22nd century, a paraplegic Marine is di...</td>\n",
       "    </tr>\n",
       "    <tr>\n",
       "      <th>1</th>\n",
       "      <td>Pirates of the Caribbean: At World's End</td>\n",
       "      <td>4500</td>\n",
       "      <td>6.9</td>\n",
       "      <td>169.0</td>\n",
       "      <td>Adventure,Fantasy,Action</td>\n",
       "      <td>Captain Barbossa, long believed to be dead, ha...</td>\n",
       "    </tr>\n",
       "    <tr>\n",
       "      <th>2</th>\n",
       "      <td>Spectre</td>\n",
       "      <td>4466</td>\n",
       "      <td>6.3</td>\n",
       "      <td>148.0</td>\n",
       "      <td>Action,Adventure,Crime</td>\n",
       "      <td>A cryptic message from Bond’s past sends him o...</td>\n",
       "    </tr>\n",
       "    <tr>\n",
       "      <th>3</th>\n",
       "      <td>The Dark Knight Rises</td>\n",
       "      <td>9106</td>\n",
       "      <td>7.6</td>\n",
       "      <td>165.0</td>\n",
       "      <td>Action,Crime,Drama,Thriller</td>\n",
       "      <td>Following the death of District Attorney Harve...</td>\n",
       "    </tr>\n",
       "    <tr>\n",
       "      <th>4</th>\n",
       "      <td>John Carter</td>\n",
       "      <td>2124</td>\n",
       "      <td>6.1</td>\n",
       "      <td>132.0</td>\n",
       "      <td>Action,Adventure,Science Fiction</td>\n",
       "      <td>John Carter is a war-weary, former military ca...</td>\n",
       "    </tr>\n",
       "  </tbody>\n",
       "</table>\n",
       "</div>"
      ],
      "text/plain": [
       "                                      title  vote_count  vote_average  \\\n",
       "0                                    Avatar       11800           7.2   \n",
       "1  Pirates of the Caribbean: At World's End        4500           6.9   \n",
       "2                                   Spectre        4466           6.3   \n",
       "3                     The Dark Knight Rises        9106           7.6   \n",
       "4                               John Carter        2124           6.1   \n",
       "\n",
       "   runtime                                    genres  \\\n",
       "0    162.0  Action,Adventure,Fantasy,Science Fiction   \n",
       "1    169.0                  Adventure,Fantasy,Action   \n",
       "2    148.0                    Action,Adventure,Crime   \n",
       "3    165.0               Action,Crime,Drama,Thriller   \n",
       "4    132.0          Action,Adventure,Science Fiction   \n",
       "\n",
       "                                            overview  \n",
       "0  In the 22nd century, a paraplegic Marine is di...  \n",
       "1  Captain Barbossa, long believed to be dead, ha...  \n",
       "2  A cryptic message from Bond’s past sends him o...  \n",
       "3  Following the death of District Attorney Harve...  \n",
       "4  John Carter is a war-weary, former military ca...  "
      ]
     },
     "execution_count": 12,
     "metadata": {},
     "output_type": "execute_result"
    }
   ],
   "source": [
    "df.head()"
   ]
  },
  {
   "cell_type": "code",
   "execution_count": 220,
   "metadata": {},
   "outputs": [],
   "source": [
    "#df['vote_average'] = pd.to_numeric(df['vote_average'],downcast = 'float')"
   ]
  },
  {
   "cell_type": "code",
   "execution_count": 221,
   "metadata": {},
   "outputs": [],
   "source": [
    "#df['runtime'] = pd.to_numeric(df['runtime'],downcast = 'float')"
   ]
  },
  {
   "cell_type": "code",
   "execution_count": 222,
   "metadata": {},
   "outputs": [],
   "source": [
    "#df['vote_count'] = pd.to_numeric(df['vote_count'],downcast = 'float')"
   ]
  },
  {
   "cell_type": "code",
   "execution_count": 223,
   "metadata": {},
   "outputs": [],
   "source": [
    "#df.head()"
   ]
  },
  {
   "cell_type": "code",
   "execution_count": 13,
   "metadata": {},
   "outputs": [],
   "source": [
    "def imp_df(column_names, importances):\n",
    "    data = {\n",
    "        'Feature': column_names,\n",
    "        'Importance': importances,\n",
    "    }\n",
    "    df = pd.DataFrame(data) \\\n",
    "        .set_index('Feature') \\\n",
    "        .sort_values('Importance', ascending=False)\n",
    "\n",
    "    return df\n"
   ]
  },
  {
   "cell_type": "code",
   "execution_count": 14,
   "metadata": {},
   "outputs": [],
   "source": [
    "\n",
    "from sklearn.base import clone\n",
    "from sklearn.ensemble import RandomForestRegressor\n",
    "from sklearn.metrics import r2_score\n",
    "from sklearn.model_selection import train_test_split"
   ]
  },
  {
   "cell_type": "code",
   "execution_count": 15,
   "metadata": {},
   "outputs": [],
   "source": [
    "def drop_col_feat_imp(model, X_train, y_train, random_state=42):\n",
    "    model_clone = clone(model)\n",
    "    model_clone.random_state = random_state\n",
    "\n",
    "    model_clone.fit(X_train, y_train)\n",
    "    benchmark_score = model_clone.score(X_train, y_train)\n",
    "\n",
    "    importances = []\n",
    "\n",
    "    for col in X_train.columns:\n",
    "        model_clone = clone(model)\n",
    "        model_clone.random_state = random_state\n",
    "        model_clone.fit(X_train.drop(col, axis=1), y_train)\n",
    "        drop_col_score = model_clone.score(X_train.drop(col, axis=1), y_train)\n",
    "        importances.append(benchmark_score - drop_col_score)\n",
    "\n",
    "    return imp_df(X_train.columns, importances)"
   ]
  },
  {
   "cell_type": "code",
   "execution_count": 16,
   "metadata": {},
   "outputs": [],
   "source": [
    "df.dropna()\n",
    "X = df.drop(['vote_average', 'title', 'genres','overview'], axis=1)\n",
    "y = df['vote_average']\n"
   ]
  },
  {
   "cell_type": "code",
   "execution_count": 17,
   "metadata": {
    "scrolled": true
   },
   "outputs": [
    {
     "data": {
      "text/plain": [
       "Int64Index([2656, 4140], dtype='int64')"
      ]
     },
     "execution_count": 17,
     "metadata": {},
     "output_type": "execute_result"
    }
   ],
   "source": [
    "X.loc[pd.isna(X[\"runtime\"]), :].index"
   ]
  },
  {
   "cell_type": "code",
   "execution_count": 18,
   "metadata": {},
   "outputs": [],
   "source": [
    "y = pd.DataFrame(y)"
   ]
  },
  {
   "cell_type": "code",
   "execution_count": 19,
   "metadata": {},
   "outputs": [
    {
     "data": {
      "text/plain": [
       "Int64Index([], dtype='int64')"
      ]
     },
     "execution_count": 19,
     "metadata": {},
     "output_type": "execute_result"
    }
   ],
   "source": [
    "y.loc[pd.isna(y[\"vote_average\"]), :].index"
   ]
  },
  {
   "cell_type": "code",
   "execution_count": 20,
   "metadata": {},
   "outputs": [],
   "source": [
    "X.fillna(X.mean(), inplace=True)"
   ]
  },
  {
   "cell_type": "code",
   "execution_count": 21,
   "metadata": {
    "scrolled": true
   },
   "outputs": [
    {
     "data": {
      "text/plain": [
       "Int64Index([], dtype='int64')"
      ]
     },
     "execution_count": 21,
     "metadata": {},
     "output_type": "execute_result"
    }
   ],
   "source": [
    "X.loc[pd.isna(X[\"runtime\"]), :].index"
   ]
  },
  {
   "cell_type": "code",
   "execution_count": 22,
   "metadata": {},
   "outputs": [],
   "source": [
    "#y_train.isna().count()"
   ]
  },
  {
   "cell_type": "code",
   "execution_count": 23,
   "metadata": {
    "scrolled": true
   },
   "outputs": [],
   "source": [
    "#X_train.isna().count()"
   ]
  },
  {
   "cell_type": "code",
   "execution_count": 24,
   "metadata": {},
   "outputs": [],
   "source": [
    "X=X.astype(\"float32\")"
   ]
  },
  {
   "cell_type": "code",
   "execution_count": 25,
   "metadata": {},
   "outputs": [],
   "source": [
    "y = y.astype(\"float32\")"
   ]
  },
  {
   "cell_type": "code",
   "execution_count": 26,
   "metadata": {},
   "outputs": [],
   "source": [
    "X_train, X_test, y_train, y_test = train_test_split(X, y, test_size=.33, random_state=0)"
   ]
  },
  {
   "cell_type": "code",
   "execution_count": null,
   "metadata": {
    "scrolled": true
   },
   "outputs": [],
   "source": []
  },
  {
   "cell_type": "code",
   "execution_count": 238,
   "metadata": {},
   "outputs": [],
   "source": [
    "#df['runtime'] = pd.to_numeric(df['runtime'],downcast = 'float')"
   ]
  },
  {
   "cell_type": "code",
   "execution_count": 28,
   "metadata": {
    "scrolled": true
   },
   "outputs": [
    {
     "data": {
      "text/plain": [
       "numpy.float32"
      ]
     },
     "execution_count": 28,
     "metadata": {},
     "output_type": "execute_result"
    }
   ],
   "source": [
    "type(y[\"vote_average\"][0])"
   ]
  },
  {
   "cell_type": "code",
   "execution_count": 29,
   "metadata": {},
   "outputs": [],
   "source": [
    "rf = RandomForestRegressor(n_estimators=10, random_state = 42)"
   ]
  },
  {
   "cell_type": "code",
   "execution_count": 30,
   "metadata": {},
   "outputs": [
    {
     "name": "stderr",
     "output_type": "stream",
     "text": [
      "C:\\Users\\moksh\\anaconda3\\lib\\site-packages\\ipykernel_launcher.py:1: DataConversionWarning: A column-vector y was passed when a 1d array was expected. Please change the shape of y to (n_samples,), for example using ravel().\n",
      "  \"\"\"Entry point for launching an IPython kernel.\n"
     ]
    },
    {
     "data": {
      "text/plain": [
       "RandomForestRegressor(bootstrap=True, ccp_alpha=0.0, criterion='mse',\n",
       "                      max_depth=None, max_features='auto', max_leaf_nodes=None,\n",
       "                      max_samples=None, min_impurity_decrease=0.0,\n",
       "                      min_impurity_split=None, min_samples_leaf=1,\n",
       "                      min_samples_split=2, min_weight_fraction_leaf=0.0,\n",
       "                      n_estimators=10, n_jobs=None, oob_score=False,\n",
       "                      random_state=42, verbose=0, warm_start=False)"
      ]
     },
     "execution_count": 30,
     "metadata": {},
     "output_type": "execute_result"
    }
   ],
   "source": [
    "rf.fit(X_train,y_train)"
   ]
  },
  {
   "cell_type": "code",
   "execution_count": 31,
   "metadata": {},
   "outputs": [
    {
     "data": {
      "text/plain": [
       "0.8500711746037886"
      ]
     },
     "execution_count": 31,
     "metadata": {},
     "output_type": "execute_result"
    }
   ],
   "source": [
    "rf.score(X_train, y_train)"
   ]
  },
  {
   "cell_type": "code",
   "execution_count": 32,
   "metadata": {},
   "outputs": [],
   "source": [
    "def imp_df(column_names, importances):\n",
    "    data = {\n",
    "        'Feature': column_names,\n",
    "        'Importance': importances,\n",
    "    }\n",
    "    df = pd.DataFrame(data) \\\n",
    "        .set_index('Feature') \\\n",
    "        .sort_values('Importance', ascending=False)\n",
    "    \n",
    "    return df"
   ]
  },
  {
   "cell_type": "code",
   "execution_count": 33,
   "metadata": {},
   "outputs": [],
   "source": [
    "def drop_col_feat_imp(model, X_train, y_train, random_state=42):\n",
    "    model_clone = clone(model)\n",
    "    model_clone.random_state = random_state\n",
    "    \n",
    "    model_clone.fit(X_train, y_train)\n",
    "    benchmark_score = model_clone.score(X_train, y_train)\n",
    "    \n",
    "    importances = []\n",
    "    \n",
    "    for col in X_train.columns:\n",
    "        model_clone = clone(model)\n",
    "        model_clone.random_state = random_state\n",
    "        model_clone.fit(X_train.drop(col, axis=1), y_train)\n",
    "        drop_col_score = model_clone.score(X_train.drop(col, axis=1), y_train)\n",
    "        importances.append(benchmark_score - drop_col_score)\n",
    "    \n",
    "    return imp_df(X_train.columns, importances)"
   ]
  },
  {
   "cell_type": "code",
   "execution_count": 34,
   "metadata": {},
   "outputs": [
    {
     "name": "stderr",
     "output_type": "stream",
     "text": [
      "C:\\Users\\moksh\\anaconda3\\lib\\site-packages\\ipykernel_launcher.py:5: DataConversionWarning: A column-vector y was passed when a 1d array was expected. Please change the shape of y to (n_samples,), for example using ravel().\n",
      "  \"\"\"\n",
      "C:\\Users\\moksh\\anaconda3\\lib\\site-packages\\ipykernel_launcher.py:13: DataConversionWarning: A column-vector y was passed when a 1d array was expected. Please change the shape of y to (n_samples,), for example using ravel().\n",
      "  del sys.path[0]\n",
      "C:\\Users\\moksh\\anaconda3\\lib\\site-packages\\ipykernel_launcher.py:13: DataConversionWarning: A column-vector y was passed when a 1d array was expected. Please change the shape of y to (n_samples,), for example using ravel().\n",
      "  del sys.path[0]\n"
     ]
    },
    {
     "data": {
      "text/html": [
       "<div>\n",
       "<style scoped>\n",
       "    .dataframe tbody tr th:only-of-type {\n",
       "        vertical-align: middle;\n",
       "    }\n",
       "\n",
       "    .dataframe tbody tr th {\n",
       "        vertical-align: top;\n",
       "    }\n",
       "\n",
       "    .dataframe thead th {\n",
       "        text-align: right;\n",
       "    }\n",
       "</style>\n",
       "<table border=\"1\" class=\"dataframe\">\n",
       "  <thead>\n",
       "    <tr style=\"text-align: right;\">\n",
       "      <th></th>\n",
       "      <th>Importance</th>\n",
       "    </tr>\n",
       "    <tr>\n",
       "      <th>Feature</th>\n",
       "      <th></th>\n",
       "    </tr>\n",
       "  </thead>\n",
       "  <tbody>\n",
       "    <tr>\n",
       "      <th>vote_count</th>\n",
       "      <td>0.661283</td>\n",
       "    </tr>\n",
       "    <tr>\n",
       "      <th>runtime</th>\n",
       "      <td>0.270634</td>\n",
       "    </tr>\n",
       "  </tbody>\n",
       "</table>\n",
       "</div>"
      ],
      "text/plain": [
       "            Importance\n",
       "Feature               \n",
       "vote_count    0.661283\n",
       "runtime       0.270634"
      ]
     },
     "execution_count": 34,
     "metadata": {},
     "output_type": "execute_result"
    }
   ],
   "source": [
    "drop_col_feat_imp(rf, X_train, y_train)"
   ]
  },
  {
   "cell_type": "code",
   "execution_count": 35,
   "metadata": {},
   "outputs": [],
   "source": [
    "df['score'] = (\n",
    "    0.661283 * df['vote_count'] + 0.270634 * df['runtime']\n",
    ")\n"
   ]
  },
  {
   "cell_type": "code",
   "execution_count": 36,
   "metadata": {},
   "outputs": [
    {
     "data": {
      "text/html": [
       "<div>\n",
       "<style scoped>\n",
       "    .dataframe tbody tr th:only-of-type {\n",
       "        vertical-align: middle;\n",
       "    }\n",
       "\n",
       "    .dataframe tbody tr th {\n",
       "        vertical-align: top;\n",
       "    }\n",
       "\n",
       "    .dataframe thead th {\n",
       "        text-align: right;\n",
       "    }\n",
       "</style>\n",
       "<table border=\"1\" class=\"dataframe\">\n",
       "  <thead>\n",
       "    <tr style=\"text-align: right;\">\n",
       "      <th></th>\n",
       "      <th>title</th>\n",
       "      <th>vote_count</th>\n",
       "      <th>vote_average</th>\n",
       "      <th>runtime</th>\n",
       "      <th>genres</th>\n",
       "      <th>overview</th>\n",
       "      <th>score</th>\n",
       "    </tr>\n",
       "  </thead>\n",
       "  <tbody>\n",
       "    <tr>\n",
       "      <th>0</th>\n",
       "      <td>Avatar</td>\n",
       "      <td>11800</td>\n",
       "      <td>7.2</td>\n",
       "      <td>162.0</td>\n",
       "      <td>Action,Adventure,Fantasy,Science Fiction</td>\n",
       "      <td>In the 22nd century, a paraplegic Marine is di...</td>\n",
       "      <td>7846.982108</td>\n",
       "    </tr>\n",
       "    <tr>\n",
       "      <th>1</th>\n",
       "      <td>Pirates of the Caribbean: At World's End</td>\n",
       "      <td>4500</td>\n",
       "      <td>6.9</td>\n",
       "      <td>169.0</td>\n",
       "      <td>Adventure,Fantasy,Action</td>\n",
       "      <td>Captain Barbossa, long believed to be dead, ha...</td>\n",
       "      <td>3021.510646</td>\n",
       "    </tr>\n",
       "    <tr>\n",
       "      <th>2</th>\n",
       "      <td>Spectre</td>\n",
       "      <td>4466</td>\n",
       "      <td>6.3</td>\n",
       "      <td>148.0</td>\n",
       "      <td>Action,Adventure,Crime</td>\n",
       "      <td>A cryptic message from Bond’s past sends him o...</td>\n",
       "      <td>2993.343710</td>\n",
       "    </tr>\n",
       "    <tr>\n",
       "      <th>3</th>\n",
       "      <td>The Dark Knight Rises</td>\n",
       "      <td>9106</td>\n",
       "      <td>7.6</td>\n",
       "      <td>165.0</td>\n",
       "      <td>Action,Crime,Drama,Thriller</td>\n",
       "      <td>Following the death of District Attorney Harve...</td>\n",
       "      <td>6066.297608</td>\n",
       "    </tr>\n",
       "    <tr>\n",
       "      <th>4</th>\n",
       "      <td>John Carter</td>\n",
       "      <td>2124</td>\n",
       "      <td>6.1</td>\n",
       "      <td>132.0</td>\n",
       "      <td>Action,Adventure,Science Fiction</td>\n",
       "      <td>John Carter is a war-weary, former military ca...</td>\n",
       "      <td>1440.288780</td>\n",
       "    </tr>\n",
       "  </tbody>\n",
       "</table>\n",
       "</div>"
      ],
      "text/plain": [
       "                                      title  vote_count  vote_average  \\\n",
       "0                                    Avatar       11800           7.2   \n",
       "1  Pirates of the Caribbean: At World's End        4500           6.9   \n",
       "2                                   Spectre        4466           6.3   \n",
       "3                     The Dark Knight Rises        9106           7.6   \n",
       "4                               John Carter        2124           6.1   \n",
       "\n",
       "   runtime                                    genres  \\\n",
       "0    162.0  Action,Adventure,Fantasy,Science Fiction   \n",
       "1    169.0                  Adventure,Fantasy,Action   \n",
       "2    148.0                    Action,Adventure,Crime   \n",
       "3    165.0               Action,Crime,Drama,Thriller   \n",
       "4    132.0          Action,Adventure,Science Fiction   \n",
       "\n",
       "                                            overview        score  \n",
       "0  In the 22nd century, a paraplegic Marine is di...  7846.982108  \n",
       "1  Captain Barbossa, long believed to be dead, ha...  3021.510646  \n",
       "2  A cryptic message from Bond’s past sends him o...  2993.343710  \n",
       "3  Following the death of District Attorney Harve...  6066.297608  \n",
       "4  John Carter is a war-weary, former military ca...  1440.288780  "
      ]
     },
     "execution_count": 36,
     "metadata": {},
     "output_type": "execute_result"
    }
   ],
   "source": [
    "df.head()"
   ]
  },
  {
   "cell_type": "code",
   "execution_count": 37,
   "metadata": {},
   "outputs": [],
   "source": [
    "df = df.reset_index(drop=True)"
   ]
  },
  {
   "cell_type": "code",
   "execution_count": 38,
   "metadata": {},
   "outputs": [
    {
     "data": {
      "text/html": [
       "<div>\n",
       "<style scoped>\n",
       "    .dataframe tbody tr th:only-of-type {\n",
       "        vertical-align: middle;\n",
       "    }\n",
       "\n",
       "    .dataframe tbody tr th {\n",
       "        vertical-align: top;\n",
       "    }\n",
       "\n",
       "    .dataframe thead th {\n",
       "        text-align: right;\n",
       "    }\n",
       "</style>\n",
       "<table border=\"1\" class=\"dataframe\">\n",
       "  <thead>\n",
       "    <tr style=\"text-align: right;\">\n",
       "      <th></th>\n",
       "      <th>title</th>\n",
       "      <th>vote_count</th>\n",
       "      <th>vote_average</th>\n",
       "      <th>runtime</th>\n",
       "      <th>genres</th>\n",
       "      <th>overview</th>\n",
       "      <th>score</th>\n",
       "    </tr>\n",
       "  </thead>\n",
       "  <tbody>\n",
       "    <tr>\n",
       "      <th>96</th>\n",
       "      <td>Inception</td>\n",
       "      <td>13752</td>\n",
       "      <td>8.1</td>\n",
       "      <td>148.0</td>\n",
       "      <td>Action,Thriller,Science Fiction,Mystery,Adventure</td>\n",
       "      <td>Cobb, a skilled thief who commits corporate es...</td>\n",
       "      <td>9134.017648</td>\n",
       "    </tr>\n",
       "    <tr>\n",
       "      <th>65</th>\n",
       "      <td>The Dark Knight</td>\n",
       "      <td>12002</td>\n",
       "      <td>8.2</td>\n",
       "      <td>152.0</td>\n",
       "      <td>Drama,Action,Crime,Thriller</td>\n",
       "      <td>Batman raises the stakes in his war on crime. ...</td>\n",
       "      <td>7977.854934</td>\n",
       "    </tr>\n",
       "    <tr>\n",
       "      <th>0</th>\n",
       "      <td>Avatar</td>\n",
       "      <td>11800</td>\n",
       "      <td>7.2</td>\n",
       "      <td>162.0</td>\n",
       "      <td>Action,Adventure,Fantasy,Science Fiction</td>\n",
       "      <td>In the 22nd century, a paraplegic Marine is di...</td>\n",
       "      <td>7846.982108</td>\n",
       "    </tr>\n",
       "    <tr>\n",
       "      <th>16</th>\n",
       "      <td>The Avengers</td>\n",
       "      <td>11776</td>\n",
       "      <td>7.4</td>\n",
       "      <td>143.0</td>\n",
       "      <td>Science Fiction,Action,Adventure</td>\n",
       "      <td>When an unexpected enemy emerges and threatens...</td>\n",
       "      <td>7825.969270</td>\n",
       "    </tr>\n",
       "    <tr>\n",
       "      <th>788</th>\n",
       "      <td>Deadpool</td>\n",
       "      <td>10995</td>\n",
       "      <td>7.4</td>\n",
       "      <td>108.0</td>\n",
       "      <td>Action,Adventure,Comedy</td>\n",
       "      <td>Deadpool tells the origin story of former Spec...</td>\n",
       "      <td>7300.035057</td>\n",
       "    </tr>\n",
       "    <tr>\n",
       "      <th>95</th>\n",
       "      <td>Interstellar</td>\n",
       "      <td>10867</td>\n",
       "      <td>8.1</td>\n",
       "      <td>169.0</td>\n",
       "      <td>Adventure,Drama,Science Fiction</td>\n",
       "      <td>Interstellar chronicles the adventures of a gr...</td>\n",
       "      <td>7231.899507</td>\n",
       "    </tr>\n",
       "    <tr>\n",
       "      <th>287</th>\n",
       "      <td>Django Unchained</td>\n",
       "      <td>10099</td>\n",
       "      <td>7.8</td>\n",
       "      <td>165.0</td>\n",
       "      <td>Drama,Western</td>\n",
       "      <td>With the help of a German bounty hunter, a fre...</td>\n",
       "      <td>6722.951627</td>\n",
       "    </tr>\n",
       "    <tr>\n",
       "      <th>94</th>\n",
       "      <td>Guardians of the Galaxy</td>\n",
       "      <td>9742</td>\n",
       "      <td>7.9</td>\n",
       "      <td>121.0</td>\n",
       "      <td>Action,Science Fiction,Adventure</td>\n",
       "      <td>Light years from Earth, 26 years after being a...</td>\n",
       "      <td>6474.965700</td>\n",
       "    </tr>\n",
       "    <tr>\n",
       "      <th>426</th>\n",
       "      <td>The Hunger Games</td>\n",
       "      <td>9455</td>\n",
       "      <td>6.9</td>\n",
       "      <td>142.0</td>\n",
       "      <td>Science Fiction,Adventure,Fantasy</td>\n",
       "      <td>Every year in the ruins of what was once North...</td>\n",
       "      <td>6290.860793</td>\n",
       "    </tr>\n",
       "    <tr>\n",
       "      <th>127</th>\n",
       "      <td>Mad Max: Fury Road</td>\n",
       "      <td>9427</td>\n",
       "      <td>7.2</td>\n",
       "      <td>120.0</td>\n",
       "      <td>Action,Adventure,Science Fiction,Thriller</td>\n",
       "      <td>An apocalyptic story set in the furthest reach...</td>\n",
       "      <td>6266.390921</td>\n",
       "    </tr>\n",
       "    <tr>\n",
       "      <th>662</th>\n",
       "      <td>Fight Club</td>\n",
       "      <td>9413</td>\n",
       "      <td>8.3</td>\n",
       "      <td>139.0</td>\n",
       "      <td>Drama</td>\n",
       "      <td>A ticking-time-bomb insomniac and a slippery s...</td>\n",
       "      <td>6262.275005</td>\n",
       "    </tr>\n",
       "    <tr>\n",
       "      <th>3</th>\n",
       "      <td>The Dark Knight Rises</td>\n",
       "      <td>9106</td>\n",
       "      <td>7.6</td>\n",
       "      <td>165.0</td>\n",
       "      <td>Action,Crime,Drama,Thriller</td>\n",
       "      <td>Following the death of District Attorney Harve...</td>\n",
       "      <td>6066.297608</td>\n",
       "    </tr>\n",
       "    <tr>\n",
       "      <th>634</th>\n",
       "      <td>The Matrix</td>\n",
       "      <td>8907</td>\n",
       "      <td>7.9</td>\n",
       "      <td>136.0</td>\n",
       "      <td>Action,Science Fiction</td>\n",
       "      <td>Set in the 22nd century, The Matrix tells the ...</td>\n",
       "      <td>5926.853905</td>\n",
       "    </tr>\n",
       "    <tr>\n",
       "      <th>31</th>\n",
       "      <td>Iron Man 3</td>\n",
       "      <td>8806</td>\n",
       "      <td>6.8</td>\n",
       "      <td>130.0</td>\n",
       "      <td>Action,Adventure,Science Fiction</td>\n",
       "      <td>When Tony Stark's world is torn apart by a for...</td>\n",
       "      <td>5858.440518</td>\n",
       "    </tr>\n",
       "    <tr>\n",
       "      <th>68</th>\n",
       "      <td>Iron Man</td>\n",
       "      <td>8776</td>\n",
       "      <td>7.4</td>\n",
       "      <td>126.0</td>\n",
       "      <td>Action,Science Fiction,Adventure</td>\n",
       "      <td>After being held captive in an Afghan cave, bi...</td>\n",
       "      <td>5837.519492</td>\n",
       "    </tr>\n",
       "    <tr>\n",
       "      <th>262</th>\n",
       "      <td>The Lord of the Rings: The Fellowship of the Ring</td>\n",
       "      <td>8705</td>\n",
       "      <td>8.0</td>\n",
       "      <td>178.0</td>\n",
       "      <td>Adventure,Fantasy,Action</td>\n",
       "      <td>Young hobbit Frodo Baggins, after inheriting a...</td>\n",
       "      <td>5804.641367</td>\n",
       "    </tr>\n",
       "    <tr>\n",
       "      <th>28</th>\n",
       "      <td>Jurassic World</td>\n",
       "      <td>8662</td>\n",
       "      <td>6.5</td>\n",
       "      <td>124.0</td>\n",
       "      <td>Action,Adventure,Science Fiction,Thriller</td>\n",
       "      <td>Twenty-two years after the events of Jurassic ...</td>\n",
       "      <td>5761.591962</td>\n",
       "    </tr>\n",
       "    <tr>\n",
       "      <th>3232</th>\n",
       "      <td>Pulp Fiction</td>\n",
       "      <td>8428</td>\n",
       "      <td>8.3</td>\n",
       "      <td>154.0</td>\n",
       "      <td>Thriller,Crime</td>\n",
       "      <td>A burger-loving hit man, his philosophical par...</td>\n",
       "      <td>5614.970760</td>\n",
       "    </tr>\n",
       "    <tr>\n",
       "      <th>98</th>\n",
       "      <td>The Hobbit: An Unexpected Journey</td>\n",
       "      <td>8297</td>\n",
       "      <td>7.0</td>\n",
       "      <td>169.0</td>\n",
       "      <td>Adventure,Fantasy,Action</td>\n",
       "      <td>Bilbo Baggins, a hobbit enjoying his quiet lif...</td>\n",
       "      <td>5532.402197</td>\n",
       "    </tr>\n",
       "    <tr>\n",
       "      <th>1881</th>\n",
       "      <td>The Shawshank Redemption</td>\n",
       "      <td>8205</td>\n",
       "      <td>8.5</td>\n",
       "      <td>142.0</td>\n",
       "      <td>Drama,Crime</td>\n",
       "      <td>Framed in the 1940s for the double murder of h...</td>\n",
       "      <td>5464.257043</td>\n",
       "    </tr>\n",
       "  </tbody>\n",
       "</table>\n",
       "</div>"
      ],
      "text/plain": [
       "                                                  title  vote_count  \\\n",
       "96                                            Inception       13752   \n",
       "65                                      The Dark Knight       12002   \n",
       "0                                                Avatar       11800   \n",
       "16                                         The Avengers       11776   \n",
       "788                                            Deadpool       10995   \n",
       "95                                         Interstellar       10867   \n",
       "287                                    Django Unchained       10099   \n",
       "94                              Guardians of the Galaxy        9742   \n",
       "426                                    The Hunger Games        9455   \n",
       "127                                  Mad Max: Fury Road        9427   \n",
       "662                                          Fight Club        9413   \n",
       "3                                 The Dark Knight Rises        9106   \n",
       "634                                          The Matrix        8907   \n",
       "31                                           Iron Man 3        8806   \n",
       "68                                             Iron Man        8776   \n",
       "262   The Lord of the Rings: The Fellowship of the Ring        8705   \n",
       "28                                       Jurassic World        8662   \n",
       "3232                                       Pulp Fiction        8428   \n",
       "98                    The Hobbit: An Unexpected Journey        8297   \n",
       "1881                           The Shawshank Redemption        8205   \n",
       "\n",
       "      vote_average  runtime  \\\n",
       "96             8.1    148.0   \n",
       "65             8.2    152.0   \n",
       "0              7.2    162.0   \n",
       "16             7.4    143.0   \n",
       "788            7.4    108.0   \n",
       "95             8.1    169.0   \n",
       "287            7.8    165.0   \n",
       "94             7.9    121.0   \n",
       "426            6.9    142.0   \n",
       "127            7.2    120.0   \n",
       "662            8.3    139.0   \n",
       "3              7.6    165.0   \n",
       "634            7.9    136.0   \n",
       "31             6.8    130.0   \n",
       "68             7.4    126.0   \n",
       "262            8.0    178.0   \n",
       "28             6.5    124.0   \n",
       "3232           8.3    154.0   \n",
       "98             7.0    169.0   \n",
       "1881           8.5    142.0   \n",
       "\n",
       "                                                 genres  \\\n",
       "96    Action,Thriller,Science Fiction,Mystery,Adventure   \n",
       "65                          Drama,Action,Crime,Thriller   \n",
       "0              Action,Adventure,Fantasy,Science Fiction   \n",
       "16                     Science Fiction,Action,Adventure   \n",
       "788                             Action,Adventure,Comedy   \n",
       "95                      Adventure,Drama,Science Fiction   \n",
       "287                                       Drama,Western   \n",
       "94                     Action,Science Fiction,Adventure   \n",
       "426                   Science Fiction,Adventure,Fantasy   \n",
       "127           Action,Adventure,Science Fiction,Thriller   \n",
       "662                                               Drama   \n",
       "3                           Action,Crime,Drama,Thriller   \n",
       "634                              Action,Science Fiction   \n",
       "31                     Action,Adventure,Science Fiction   \n",
       "68                     Action,Science Fiction,Adventure   \n",
       "262                            Adventure,Fantasy,Action   \n",
       "28            Action,Adventure,Science Fiction,Thriller   \n",
       "3232                                     Thriller,Crime   \n",
       "98                             Adventure,Fantasy,Action   \n",
       "1881                                        Drama,Crime   \n",
       "\n",
       "                                               overview        score  \n",
       "96    Cobb, a skilled thief who commits corporate es...  9134.017648  \n",
       "65    Batman raises the stakes in his war on crime. ...  7977.854934  \n",
       "0     In the 22nd century, a paraplegic Marine is di...  7846.982108  \n",
       "16    When an unexpected enemy emerges and threatens...  7825.969270  \n",
       "788   Deadpool tells the origin story of former Spec...  7300.035057  \n",
       "95    Interstellar chronicles the adventures of a gr...  7231.899507  \n",
       "287   With the help of a German bounty hunter, a fre...  6722.951627  \n",
       "94    Light years from Earth, 26 years after being a...  6474.965700  \n",
       "426   Every year in the ruins of what was once North...  6290.860793  \n",
       "127   An apocalyptic story set in the furthest reach...  6266.390921  \n",
       "662   A ticking-time-bomb insomniac and a slippery s...  6262.275005  \n",
       "3     Following the death of District Attorney Harve...  6066.297608  \n",
       "634   Set in the 22nd century, The Matrix tells the ...  5926.853905  \n",
       "31    When Tony Stark's world is torn apart by a for...  5858.440518  \n",
       "68    After being held captive in an Afghan cave, bi...  5837.519492  \n",
       "262   Young hobbit Frodo Baggins, after inheriting a...  5804.641367  \n",
       "28    Twenty-two years after the events of Jurassic ...  5761.591962  \n",
       "3232  A burger-loving hit man, his philosophical par...  5614.970760  \n",
       "98    Bilbo Baggins, a hobbit enjoying his quiet lif...  5532.402197  \n",
       "1881  Framed in the 1940s for the double murder of h...  5464.257043  "
      ]
     },
     "execution_count": 38,
     "metadata": {},
     "output_type": "execute_result"
    }
   ],
   "source": [
    "df.sort_values(by='score', ascending=False).head(20)"
   ]
  },
  {
   "cell_type": "code",
   "execution_count": 40,
   "metadata": {},
   "outputs": [],
   "source": [
    "from sklearn.feature_extraction.text import TfidfVectorizer\n",
    "tfidf_vectorizer = TfidfVectorizer()\n",
    "matrix = tfidf_vectorizer.fit_transform(df['genres'])"
   ]
  },
  {
   "cell_type": "code",
   "execution_count": 42,
   "metadata": {},
   "outputs": [
    {
     "name": "stderr",
     "output_type": "stream",
     "text": [
      "C:\\Users\\moksh\\anaconda3\\lib\\site-packages\\sklearn\\utils\\deprecation.py:144: FutureWarning: The sklearn.neighbors.kde module is  deprecated in version 0.22 and will be removed in version 0.24. The corresponding classes / functions should instead be imported from sklearn.neighbors. Anything that cannot be imported from sklearn.neighbors is now part of the private API.\n",
      "  warnings.warn(message, FutureWarning)\n"
     ]
    }
   ],
   "source": [
    "from scipy.signal import argrelextrema\n",
    "from sklearn.neighbors.kde import KernelDensity\n"
   ]
  },
  {
   "cell_type": "code",
   "execution_count": 45,
   "metadata": {},
   "outputs": [],
   "source": [
    "df['score'] = df['score'].astype('float32')"
   ]
  },
  {
   "cell_type": "code",
   "execution_count": 46,
   "metadata": {},
   "outputs": [
    {
     "data": {
      "text/html": [
       "<div>\n",
       "<style scoped>\n",
       "    .dataframe tbody tr th:only-of-type {\n",
       "        vertical-align: middle;\n",
       "    }\n",
       "\n",
       "    .dataframe tbody tr th {\n",
       "        vertical-align: top;\n",
       "    }\n",
       "\n",
       "    .dataframe thead th {\n",
       "        text-align: right;\n",
       "    }\n",
       "</style>\n",
       "<table border=\"1\" class=\"dataframe\">\n",
       "  <thead>\n",
       "    <tr style=\"text-align: right;\">\n",
       "      <th></th>\n",
       "      <th>title</th>\n",
       "      <th>vote_count</th>\n",
       "      <th>vote_average</th>\n",
       "      <th>runtime</th>\n",
       "      <th>genres</th>\n",
       "      <th>overview</th>\n",
       "      <th>score</th>\n",
       "    </tr>\n",
       "  </thead>\n",
       "  <tbody>\n",
       "    <tr>\n",
       "      <th>0</th>\n",
       "      <td>Avatar</td>\n",
       "      <td>11800</td>\n",
       "      <td>7.2</td>\n",
       "      <td>162.0</td>\n",
       "      <td>Action,Adventure,Fantasy,Science Fiction</td>\n",
       "      <td>In the 22nd century, a paraplegic Marine is di...</td>\n",
       "      <td>7846.981934</td>\n",
       "    </tr>\n",
       "    <tr>\n",
       "      <th>1</th>\n",
       "      <td>Pirates of the Caribbean: At World's End</td>\n",
       "      <td>4500</td>\n",
       "      <td>6.9</td>\n",
       "      <td>169.0</td>\n",
       "      <td>Adventure,Fantasy,Action</td>\n",
       "      <td>Captain Barbossa, long believed to be dead, ha...</td>\n",
       "      <td>3021.510742</td>\n",
       "    </tr>\n",
       "    <tr>\n",
       "      <th>2</th>\n",
       "      <td>Spectre</td>\n",
       "      <td>4466</td>\n",
       "      <td>6.3</td>\n",
       "      <td>148.0</td>\n",
       "      <td>Action,Adventure,Crime</td>\n",
       "      <td>A cryptic message from Bond’s past sends him o...</td>\n",
       "      <td>2993.343750</td>\n",
       "    </tr>\n",
       "    <tr>\n",
       "      <th>3</th>\n",
       "      <td>The Dark Knight Rises</td>\n",
       "      <td>9106</td>\n",
       "      <td>7.6</td>\n",
       "      <td>165.0</td>\n",
       "      <td>Action,Crime,Drama,Thriller</td>\n",
       "      <td>Following the death of District Attorney Harve...</td>\n",
       "      <td>6066.297852</td>\n",
       "    </tr>\n",
       "    <tr>\n",
       "      <th>4</th>\n",
       "      <td>John Carter</td>\n",
       "      <td>2124</td>\n",
       "      <td>6.1</td>\n",
       "      <td>132.0</td>\n",
       "      <td>Action,Adventure,Science Fiction</td>\n",
       "      <td>John Carter is a war-weary, former military ca...</td>\n",
       "      <td>1440.288818</td>\n",
       "    </tr>\n",
       "  </tbody>\n",
       "</table>\n",
       "</div>"
      ],
      "text/plain": [
       "                                      title  vote_count  vote_average  \\\n",
       "0                                    Avatar       11800           7.2   \n",
       "1  Pirates of the Caribbean: At World's End        4500           6.9   \n",
       "2                                   Spectre        4466           6.3   \n",
       "3                     The Dark Knight Rises        9106           7.6   \n",
       "4                               John Carter        2124           6.1   \n",
       "\n",
       "   runtime                                    genres  \\\n",
       "0    162.0  Action,Adventure,Fantasy,Science Fiction   \n",
       "1    169.0                  Adventure,Fantasy,Action   \n",
       "2    148.0                    Action,Adventure,Crime   \n",
       "3    165.0               Action,Crime,Drama,Thriller   \n",
       "4    132.0          Action,Adventure,Science Fiction   \n",
       "\n",
       "                                            overview        score  \n",
       "0  In the 22nd century, a paraplegic Marine is di...  7846.981934  \n",
       "1  Captain Barbossa, long believed to be dead, ha...  3021.510742  \n",
       "2  A cryptic message from Bond’s past sends him o...  2993.343750  \n",
       "3  Following the death of District Attorney Harve...  6066.297852  \n",
       "4  John Carter is a war-weary, former military ca...  1440.288818  "
      ]
     },
     "execution_count": 46,
     "metadata": {},
     "output_type": "execute_result"
    }
   ],
   "source": [
    "df.head()"
   ]
  },
  {
   "cell_type": "code",
   "execution_count": 66,
   "metadata": {},
   "outputs": [
    {
     "data": {
      "text/plain": [
       "(4803, 1)"
      ]
     },
     "execution_count": 66,
     "metadata": {},
     "output_type": "execute_result"
    }
   ],
   "source": [
    "vals.shape"
   ]
  },
  {
   "cell_type": "code",
   "execution_count": 69,
   "metadata": {},
   "outputs": [
    {
     "data": {
      "text/plain": [
       "(4803,)"
      ]
     },
     "execution_count": 69,
     "metadata": {},
     "output_type": "execute_result"
    }
   ],
   "source": [
    "df['score'].shape"
   ]
  },
  {
   "cell_type": "code",
   "execution_count": 52,
   "metadata": {},
   "outputs": [],
   "source": [
    "vals = df['score'].values.reshape(-1, 1)\n",
    "kde = KernelDensity(kernel='gaussian', bandwidth=3).fit(vals)\n",
    "\n",
    "s = np.linspace(650, 20000)\n",
    "\n",
    "e = kde.score_samples(s.reshape(-1,1))"
   ]
  },
  {
   "cell_type": "code",
   "execution_count": 49,
   "metadata": {},
   "outputs": [
    {
     "data": {
      "text/plain": [
       "Int64Index([2656, 4140], dtype='int64')"
      ]
     },
     "execution_count": 49,
     "metadata": {},
     "output_type": "execute_result"
    }
   ],
   "source": [
    "df.loc[pd.isna(df[\"score\"]), :].index"
   ]
  },
  {
   "cell_type": "code",
   "execution_count": 50,
   "metadata": {},
   "outputs": [],
   "source": [
    "df.fillna(df.mean(), inplace=True)"
   ]
  },
  {
   "cell_type": "code",
   "execution_count": 51,
   "metadata": {},
   "outputs": [
    {
     "data": {
      "text/plain": [
       "Int64Index([], dtype='int64')"
      ]
     },
     "execution_count": 51,
     "metadata": {},
     "output_type": "execute_result"
    }
   ],
   "source": [
    "df.loc[pd.isna(df[\"score\"]), :].index"
   ]
  },
  {
   "cell_type": "code",
   "execution_count": 54,
   "metadata": {},
   "outputs": [],
   "source": [
    "mi, ma = argrelextrema(e, np.less)[0], argrelextrema(e, np.greater)[0]"
   ]
  },
  {
   "cell_type": "code",
   "execution_count": 55,
   "metadata": {},
   "outputs": [],
   "source": [
    "points = np.concatenate((s[mi], s[ma]), axis=0)\n",
    "buckets = []\n",
    "\n",
    "for point in points:\n",
    "    buckets.append(point)"
   ]
  },
  {
   "cell_type": "code",
   "execution_count": 56,
   "metadata": {},
   "outputs": [],
   "source": [
    "buckets = np.array(buckets)\n",
    "buckets.sort()"
   ]
  },
  {
   "cell_type": "code",
   "execution_count": 57,
   "metadata": {},
   "outputs": [],
   "source": [
    "df['cluster'] = buckets.searchsorted(df.score)"
   ]
  },
  {
   "cell_type": "code",
   "execution_count": 58,
   "metadata": {},
   "outputs": [
    {
     "data": {
      "text/plain": [
       "cluster\n",
       "0     4515\n",
       "1       84\n",
       "2       47\n",
       "3       43\n",
       "4       32\n",
       "5       15\n",
       "6       34\n",
       "7       13\n",
       "8       14\n",
       "9        2\n",
       "10       3\n",
       "12       1\n",
       "dtype: int64"
      ]
     },
     "execution_count": 58,
     "metadata": {},
     "output_type": "execute_result"
    }
   ],
   "source": [
    "df.groupby('cluster').size()"
   ]
  },
  {
   "cell_type": "code",
   "execution_count": 61,
   "metadata": {},
   "outputs": [],
   "source": [
    "from sklearn.metrics.pairwise import linear_kernel"
   ]
  },
  {
   "cell_type": "code",
   "execution_count": null,
   "metadata": {},
   "outputs": [],
   "source": []
  },
  {
   "cell_type": "code",
   "execution_count": 87,
   "metadata": {},
   "outputs": [],
   "source": [
    "def get_recommendations(movie_index):\n",
    "    print(df.iloc[movie_index])\n",
    "    \n",
    "    kernel = linear_kernel(matrix[movie_index], matrix)\n",
    "    sim_scores = list(enumerate(kernel[0]))\n",
    "    sim_scores = sorted(sim_scores, key=lambda x: x[1], reverse=True)\n",
    "    indexes = [i[0] for i in sim_scores if i[0] != movie_index and i[1] > .5]\n",
    "    cond1 = (df.index.isin(indexes))\n",
    "    cond2 = (df.cluster == df.iloc[movie_index]['cluster'])\n",
    "    \n",
    "    \n",
    "    selected = df.loc[cond1 & cond2] \\\n",
    "        .sort_values(by='score', ascending=False).head(20)\n",
    "    display(selected)"
   ]
  },
  {
   "cell_type": "code",
   "execution_count": 88,
   "metadata": {},
   "outputs": [
    {
     "name": "stdout",
     "output_type": "stream",
     "text": [
      "title                                                 Unbreakable\n",
      "vote_count                                                   1946\n",
      "vote_average                                                  6.9\n",
      "runtime                                                       106\n",
      "genres                             Science Fiction,Thriller,Drama\n",
      "overview        An ordinary man makes an extraordinary discove...\n",
      "score                                                     1315.54\n",
      "cluster                                                         0\n",
      "Name: 545, dtype: object\n"
     ]
    },
    {
     "data": {
      "text/html": [
       "<div>\n",
       "<style scoped>\n",
       "    .dataframe tbody tr th:only-of-type {\n",
       "        vertical-align: middle;\n",
       "    }\n",
       "\n",
       "    .dataframe tbody tr th {\n",
       "        vertical-align: top;\n",
       "    }\n",
       "\n",
       "    .dataframe thead th {\n",
       "        text-align: right;\n",
       "    }\n",
       "</style>\n",
       "<table border=\"1\" class=\"dataframe\">\n",
       "  <thead>\n",
       "    <tr style=\"text-align: right;\">\n",
       "      <th></th>\n",
       "      <th>title</th>\n",
       "      <th>vote_count</th>\n",
       "      <th>vote_average</th>\n",
       "      <th>runtime</th>\n",
       "      <th>genres</th>\n",
       "      <th>overview</th>\n",
       "      <th>score</th>\n",
       "      <th>cluster</th>\n",
       "    </tr>\n",
       "  </thead>\n",
       "  <tbody>\n",
       "    <tr>\n",
       "      <th>257</th>\n",
       "      <td>Real Steel</td>\n",
       "      <td>2692</td>\n",
       "      <td>6.6</td>\n",
       "      <td>127.0</td>\n",
       "      <td>Action,Science Fiction,Drama</td>\n",
       "      <td>In the near-future, Charlie Kenton is a washed...</td>\n",
       "      <td>1814.544312</td>\n",
       "      <td>0</td>\n",
       "    </tr>\n",
       "    <tr>\n",
       "      <th>1506</th>\n",
       "      <td>Source Code</td>\n",
       "      <td>2699</td>\n",
       "      <td>7.1</td>\n",
       "      <td>93.0</td>\n",
       "      <td>Thriller,Science Fiction,Mystery</td>\n",
       "      <td>Decorated soldier Captain Colter Stevens wakes...</td>\n",
       "      <td>1809.971802</td>\n",
       "      <td>0</td>\n",
       "    </tr>\n",
       "    <tr>\n",
       "      <th>238</th>\n",
       "      <td>Teenage Mutant Ninja Turtles</td>\n",
       "      <td>2636</td>\n",
       "      <td>5.8</td>\n",
       "      <td>101.0</td>\n",
       "      <td>Science Fiction,Action,Adventure,Fantasy,Comedy</td>\n",
       "      <td>The city needs heroes. Darkness has settled ov...</td>\n",
       "      <td>1770.476074</td>\n",
       "      <td>0</td>\n",
       "    </tr>\n",
       "    <tr>\n",
       "      <th>275</th>\n",
       "      <td>Minority Report</td>\n",
       "      <td>2608</td>\n",
       "      <td>7.1</td>\n",
       "      <td>145.0</td>\n",
       "      <td>Action,Thriller,Science Fiction,Mystery</td>\n",
       "      <td>John Anderton is a top 'Precrime' cop in the l...</td>\n",
       "      <td>1763.868042</td>\n",
       "      <td>0</td>\n",
       "    </tr>\n",
       "    <tr>\n",
       "      <th>1187</th>\n",
       "      <td>Bridge of Spies</td>\n",
       "      <td>2583</td>\n",
       "      <td>7.2</td>\n",
       "      <td>141.0</td>\n",
       "      <td>Thriller,Drama</td>\n",
       "      <td>During the Cold War, the Soviet Union captures...</td>\n",
       "      <td>1746.253418</td>\n",
       "      <td>0</td>\n",
       "    </tr>\n",
       "    <tr>\n",
       "      <th>56</th>\n",
       "      <td>Star Trek Beyond</td>\n",
       "      <td>2568</td>\n",
       "      <td>6.6</td>\n",
       "      <td>122.0</td>\n",
       "      <td>Action,Adventure,Science Fiction</td>\n",
       "      <td>The USS Enterprise crew explores the furthest ...</td>\n",
       "      <td>1731.192139</td>\n",
       "      <td>0</td>\n",
       "    </tr>\n",
       "    <tr>\n",
       "      <th>193</th>\n",
       "      <td>After Earth</td>\n",
       "      <td>2532</td>\n",
       "      <td>5.0</td>\n",
       "      <td>100.0</td>\n",
       "      <td>Science Fiction,Action,Adventure</td>\n",
       "      <td>One thousand years after cataclysmic events fo...</td>\n",
       "      <td>1701.432007</td>\n",
       "      <td>0</td>\n",
       "    </tr>\n",
       "    <tr>\n",
       "      <th>362</th>\n",
       "      <td>Pixels</td>\n",
       "      <td>2513</td>\n",
       "      <td>5.6</td>\n",
       "      <td>105.0</td>\n",
       "      <td>Action,Comedy,Science Fiction</td>\n",
       "      <td>Video game experts are recruited by the milita...</td>\n",
       "      <td>1690.220703</td>\n",
       "      <td>0</td>\n",
       "    </tr>\n",
       "    <tr>\n",
       "      <th>149</th>\n",
       "      <td>Armageddon</td>\n",
       "      <td>2482</td>\n",
       "      <td>6.4</td>\n",
       "      <td>151.0</td>\n",
       "      <td>Action,Thriller,Science Fiction,Adventure</td>\n",
       "      <td>When an asteroid threatens to collide with Ear...</td>\n",
       "      <td>1682.170166</td>\n",
       "      <td>0</td>\n",
       "    </tr>\n",
       "    <tr>\n",
       "      <th>91</th>\n",
       "      <td>Independence Day: Resurgence</td>\n",
       "      <td>2491</td>\n",
       "      <td>4.9</td>\n",
       "      <td>120.0</td>\n",
       "      <td>Action,Adventure,Science Fiction</td>\n",
       "      <td>We always knew they were coming back. Using re...</td>\n",
       "      <td>1679.732056</td>\n",
       "      <td>0</td>\n",
       "    </tr>\n",
       "    <tr>\n",
       "      <th>508</th>\n",
       "      <td>The Lost World: Jurassic Park</td>\n",
       "      <td>2487</td>\n",
       "      <td>6.2</td>\n",
       "      <td>129.0</td>\n",
       "      <td>Adventure,Action,Science Fiction</td>\n",
       "      <td>Four years after Jurassic Park's genetically b...</td>\n",
       "      <td>1679.522583</td>\n",
       "      <td>0</td>\n",
       "    </tr>\n",
       "    <tr>\n",
       "      <th>41</th>\n",
       "      <td>Green Lantern</td>\n",
       "      <td>2487</td>\n",
       "      <td>5.1</td>\n",
       "      <td>114.0</td>\n",
       "      <td>Adventure,Action,Thriller,Science Fiction</td>\n",
       "      <td>For centuries, a small but powerful force of w...</td>\n",
       "      <td>1675.463135</td>\n",
       "      <td>0</td>\n",
       "    </tr>\n",
       "    <tr>\n",
       "      <th>3556</th>\n",
       "      <td>10 Cloverfield Lane</td>\n",
       "      <td>2468</td>\n",
       "      <td>6.8</td>\n",
       "      <td>103.0</td>\n",
       "      <td>Thriller,Science Fiction,Drama</td>\n",
       "      <td>After a car accident, Michelle awakens to find...</td>\n",
       "      <td>1659.921753</td>\n",
       "      <td>0</td>\n",
       "    </tr>\n",
       "    <tr>\n",
       "      <th>43</th>\n",
       "      <td>Terminator Salvation</td>\n",
       "      <td>2463</td>\n",
       "      <td>5.9</td>\n",
       "      <td>115.0</td>\n",
       "      <td>Action,Science Fiction,Thriller</td>\n",
       "      <td>All grown up in post-apocalyptic 2018, John Co...</td>\n",
       "      <td>1659.862915</td>\n",
       "      <td>0</td>\n",
       "    </tr>\n",
       "    <tr>\n",
       "      <th>908</th>\n",
       "      <td>Super 8</td>\n",
       "      <td>2435</td>\n",
       "      <td>6.6</td>\n",
       "      <td>112.0</td>\n",
       "      <td>Thriller,Science Fiction,Mystery</td>\n",
       "      <td>In 1979 Ohio, several youngsters are making a ...</td>\n",
       "      <td>1640.535156</td>\n",
       "      <td>0</td>\n",
       "    </tr>\n",
       "    <tr>\n",
       "      <th>3895</th>\n",
       "      <td>The Purge</td>\n",
       "      <td>2428</td>\n",
       "      <td>6.0</td>\n",
       "      <td>86.0</td>\n",
       "      <td>Science Fiction,Horror,Thriller</td>\n",
       "      <td>Given the country's overcrowded prisons, the U...</td>\n",
       "      <td>1628.869629</td>\n",
       "      <td>0</td>\n",
       "    </tr>\n",
       "    <tr>\n",
       "      <th>212</th>\n",
       "      <td>The Day After Tomorrow</td>\n",
       "      <td>2392</td>\n",
       "      <td>6.2</td>\n",
       "      <td>124.0</td>\n",
       "      <td>Action,Adventure,Science Fiction,Thriller</td>\n",
       "      <td>After years of increases in the greenhouse eff...</td>\n",
       "      <td>1615.347534</td>\n",
       "      <td>0</td>\n",
       "    </tr>\n",
       "    <tr>\n",
       "      <th>224</th>\n",
       "      <td>RoboCop</td>\n",
       "      <td>2342</td>\n",
       "      <td>5.7</td>\n",
       "      <td>102.0</td>\n",
       "      <td>Action,Science Fiction</td>\n",
       "      <td>In RoboCop, the year is 2028 and multinational...</td>\n",
       "      <td>1576.329468</td>\n",
       "      <td>0</td>\n",
       "    </tr>\n",
       "    <tr>\n",
       "      <th>185</th>\n",
       "      <td>War of the Worlds</td>\n",
       "      <td>2322</td>\n",
       "      <td>6.2</td>\n",
       "      <td>116.0</td>\n",
       "      <td>Adventure,Thriller,Science Fiction</td>\n",
       "      <td>Ray Ferrier is a divorced dockworker and less-...</td>\n",
       "      <td>1566.892700</td>\n",
       "      <td>0</td>\n",
       "    </tr>\n",
       "    <tr>\n",
       "      <th>260</th>\n",
       "      <td>Ender's Game</td>\n",
       "      <td>2303</td>\n",
       "      <td>6.6</td>\n",
       "      <td>114.0</td>\n",
       "      <td>Science Fiction,Action,Adventure</td>\n",
       "      <td>Based on the classic novel by Orson Scott Card...</td>\n",
       "      <td>1553.786987</td>\n",
       "      <td>0</td>\n",
       "    </tr>\n",
       "  </tbody>\n",
       "</table>\n",
       "</div>"
      ],
      "text/plain": [
       "                              title  vote_count  vote_average  runtime  \\\n",
       "257                      Real Steel        2692           6.6    127.0   \n",
       "1506                    Source Code        2699           7.1     93.0   \n",
       "238    Teenage Mutant Ninja Turtles        2636           5.8    101.0   \n",
       "275                 Minority Report        2608           7.1    145.0   \n",
       "1187                Bridge of Spies        2583           7.2    141.0   \n",
       "56                 Star Trek Beyond        2568           6.6    122.0   \n",
       "193                     After Earth        2532           5.0    100.0   \n",
       "362                          Pixels        2513           5.6    105.0   \n",
       "149                      Armageddon        2482           6.4    151.0   \n",
       "91     Independence Day: Resurgence        2491           4.9    120.0   \n",
       "508   The Lost World: Jurassic Park        2487           6.2    129.0   \n",
       "41                    Green Lantern        2487           5.1    114.0   \n",
       "3556            10 Cloverfield Lane        2468           6.8    103.0   \n",
       "43             Terminator Salvation        2463           5.9    115.0   \n",
       "908                         Super 8        2435           6.6    112.0   \n",
       "3895                      The Purge        2428           6.0     86.0   \n",
       "212          The Day After Tomorrow        2392           6.2    124.0   \n",
       "224                         RoboCop        2342           5.7    102.0   \n",
       "185               War of the Worlds        2322           6.2    116.0   \n",
       "260                    Ender's Game        2303           6.6    114.0   \n",
       "\n",
       "                                               genres  \\\n",
       "257                      Action,Science Fiction,Drama   \n",
       "1506                 Thriller,Science Fiction,Mystery   \n",
       "238   Science Fiction,Action,Adventure,Fantasy,Comedy   \n",
       "275           Action,Thriller,Science Fiction,Mystery   \n",
       "1187                                   Thriller,Drama   \n",
       "56                   Action,Adventure,Science Fiction   \n",
       "193                  Science Fiction,Action,Adventure   \n",
       "362                     Action,Comedy,Science Fiction   \n",
       "149         Action,Thriller,Science Fiction,Adventure   \n",
       "91                   Action,Adventure,Science Fiction   \n",
       "508                  Adventure,Action,Science Fiction   \n",
       "41          Adventure,Action,Thriller,Science Fiction   \n",
       "3556                   Thriller,Science Fiction,Drama   \n",
       "43                    Action,Science Fiction,Thriller   \n",
       "908                  Thriller,Science Fiction,Mystery   \n",
       "3895                  Science Fiction,Horror,Thriller   \n",
       "212         Action,Adventure,Science Fiction,Thriller   \n",
       "224                            Action,Science Fiction   \n",
       "185                Adventure,Thriller,Science Fiction   \n",
       "260                  Science Fiction,Action,Adventure   \n",
       "\n",
       "                                               overview        score  cluster  \n",
       "257   In the near-future, Charlie Kenton is a washed...  1814.544312        0  \n",
       "1506  Decorated soldier Captain Colter Stevens wakes...  1809.971802        0  \n",
       "238   The city needs heroes. Darkness has settled ov...  1770.476074        0  \n",
       "275   John Anderton is a top 'Precrime' cop in the l...  1763.868042        0  \n",
       "1187  During the Cold War, the Soviet Union captures...  1746.253418        0  \n",
       "56    The USS Enterprise crew explores the furthest ...  1731.192139        0  \n",
       "193   One thousand years after cataclysmic events fo...  1701.432007        0  \n",
       "362   Video game experts are recruited by the milita...  1690.220703        0  \n",
       "149   When an asteroid threatens to collide with Ear...  1682.170166        0  \n",
       "91    We always knew they were coming back. Using re...  1679.732056        0  \n",
       "508   Four years after Jurassic Park's genetically b...  1679.522583        0  \n",
       "41    For centuries, a small but powerful force of w...  1675.463135        0  \n",
       "3556  After a car accident, Michelle awakens to find...  1659.921753        0  \n",
       "43    All grown up in post-apocalyptic 2018, John Co...  1659.862915        0  \n",
       "908   In 1979 Ohio, several youngsters are making a ...  1640.535156        0  \n",
       "3895  Given the country's overcrowded prisons, the U...  1628.869629        0  \n",
       "212   After years of increases in the greenhouse eff...  1615.347534        0  \n",
       "224   In RoboCop, the year is 2028 and multinational...  1576.329468        0  \n",
       "185   Ray Ferrier is a divorced dockworker and less-...  1566.892700        0  \n",
       "260   Based on the classic novel by Orson Scott Card...  1553.786987        0  "
      ]
     },
     "metadata": {},
     "output_type": "display_data"
    }
   ],
   "source": [
    "get_recommendations(545)"
   ]
  },
  {
   "cell_type": "code",
   "execution_count": null,
   "metadata": {},
   "outputs": [],
   "source": []
  },
  {
   "cell_type": "code",
   "execution_count": null,
   "metadata": {},
   "outputs": [],
   "source": []
  }
 ],
 "metadata": {
  "kernelspec": {
   "display_name": "Python 3",
   "language": "python",
   "name": "python3"
  },
  "language_info": {
   "codemirror_mode": {
    "name": "ipython",
    "version": 3
   },
   "file_extension": ".py",
   "mimetype": "text/x-python",
   "name": "python",
   "nbconvert_exporter": "python",
   "pygments_lexer": "ipython3",
   "version": "3.7.6"
  }
 },
 "nbformat": 4,
 "nbformat_minor": 4
}
