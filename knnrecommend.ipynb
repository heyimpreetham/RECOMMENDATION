{
 "metadata": {
  "language_info": {
   "codemirror_mode": {
    "name": "ipython",
    "version": 3
   },
   "file_extension": ".py",
   "mimetype": "text/x-python",
   "name": "python",
   "nbconvert_exporter": "python",
   "pygments_lexer": "ipython3",
   "version": "3.8.3-final"
  },
  "orig_nbformat": 2,
  "kernelspec": {
   "name": "python3",
   "display_name": "Python 3",
   "language": "python"
  }
 },
 "nbformat": 4,
 "nbformat_minor": 2,
 "cells": [
  {
   "cell_type": "code",
   "execution_count": 34,
   "metadata": {},
   "outputs": [],
   "source": [
    "import pandas as pd \n",
    "from sklearn.feature_extraction.text import TfidfVectorizer\n",
    "from sklearn.neighbors import NearestNeighbors\n",
    "from sklearn.metrics import accuracy_score"
   ]
  },
  {
   "cell_type": "code",
   "execution_count": 22,
   "metadata": {},
   "outputs": [
    {
     "output_type": "execute_result",
     "data": {
      "text/plain": [
       "   movieId                    title  \\\n",
       "0        1         Toy Story (1995)   \n",
       "1        2           Jumanji (1995)   \n",
       "2        3  Grumpier Old Men (1995)   \n",
       "\n",
       "                                        genres  \n",
       "0  Adventure|Animation|Children|Comedy|Fantasy  \n",
       "1                   Adventure|Children|Fantasy  \n",
       "2                               Comedy|Romance  "
      ],
      "text/html": "<div>\n<style scoped>\n    .dataframe tbody tr th:only-of-type {\n        vertical-align: middle;\n    }\n\n    .dataframe tbody tr th {\n        vertical-align: top;\n    }\n\n    .dataframe thead th {\n        text-align: right;\n    }\n</style>\n<table border=\"1\" class=\"dataframe\">\n  <thead>\n    <tr style=\"text-align: right;\">\n      <th></th>\n      <th>movieId</th>\n      <th>title</th>\n      <th>genres</th>\n    </tr>\n  </thead>\n  <tbody>\n    <tr>\n      <th>0</th>\n      <td>1</td>\n      <td>Toy Story (1995)</td>\n      <td>Adventure|Animation|Children|Comedy|Fantasy</td>\n    </tr>\n    <tr>\n      <th>1</th>\n      <td>2</td>\n      <td>Jumanji (1995)</td>\n      <td>Adventure|Children|Fantasy</td>\n    </tr>\n    <tr>\n      <th>2</th>\n      <td>3</td>\n      <td>Grumpier Old Men (1995)</td>\n      <td>Comedy|Romance</td>\n    </tr>\n  </tbody>\n</table>\n</div>"
     },
     "metadata": {},
     "execution_count": 22
    }
   ],
   "source": [
    "metadata = pd.read_csv('movies.csv', low_memory=False)\n",
    "metadata_rating = pd.read_csv('ratings.csv', low_memory=False)\n",
    "metadata.head(3)"
   ]
  },
  {
   "cell_type": "code",
   "execution_count": 90,
   "metadata": {},
   "outputs": [],
   "source": [
    "tfidf = TfidfVectorizer(stop_words='english')\n",
    "metadata['title'] = metadata['title'].fillna('')\n",
    "tfidf_matrix = tfidf.fit_transform(metadata['title'])\n",
    "movie_name=['Toy Story']\n",
    "movie_tfidf = tfidf.transform(movie_name)"
   ]
  },
  {
   "cell_type": "code",
   "execution_count": 126,
   "metadata": {},
   "outputs": [],
   "source": [
    "n_neighbors = 11\n",
    "KNN = NearestNeighbors(n_neighbors,p=2)\n",
    "KNN.fit(tfidf_matrix)\n",
    "NNs = KNN.kneighbors(movie_tfidf,return_distance=True)"
   ]
  },
  {
   "cell_type": "code",
   "execution_count": 127,
   "metadata": {},
   "outputs": [],
   "source": [
    "def get_recommendation(top, df_all, scores):\n",
    "  recommendation = pd.DataFrame(columns = [ 'movieId', 'title'])\n",
    "  count = 0\n",
    "  for i in top:\n",
    "      recommendation.at[count, 'movieId'] = df_all['movieId'][i]\n",
    "      recommendation.at[count, 'title'] = df_all['title'][i]\n",
    "      recommendation.at[count, 'score'] =  scores[count]\n",
    "      count += 1\n",
    "  return recommendation"
   ]
  },
  {
   "cell_type": "code",
   "execution_count": 128,
   "metadata": {},
   "outputs": [
    {
     "output_type": "execute_result",
     "data": {
      "text/plain": [
       "  movieId                              title     score\n",
       "0    3114                 Toy Story 2 (1999)  0.456561\n",
       "1       1                   Toy Story (1995)  0.468064\n",
       "2  106022         Toy Story of Terror (2013)  0.668171\n",
       "3    4929                    Toy, The (1982)  0.770886\n",
       "4  120474  Toy Story That Time Forgot (2014)  0.849089\n",
       "5   80141          Christmas Toy, The (1986)  0.887103\n",
       "6  122078                The Toy Wife (1938)  0.936509\n",
       "7  159856                 The Toy Box (1971)  0.939533\n",
       "8  143537                 Toy Masters (2014)  0.941782\n",
       "9    5843                Toy Soldiers (1991)  0.956857"
      ],
      "text/html": "<div>\n<style scoped>\n    .dataframe tbody tr th:only-of-type {\n        vertical-align: middle;\n    }\n\n    .dataframe tbody tr th {\n        vertical-align: top;\n    }\n\n    .dataframe thead th {\n        text-align: right;\n    }\n</style>\n<table border=\"1\" class=\"dataframe\">\n  <thead>\n    <tr style=\"text-align: right;\">\n      <th></th>\n      <th>movieId</th>\n      <th>title</th>\n      <th>score</th>\n    </tr>\n  </thead>\n  <tbody>\n    <tr>\n      <th>0</th>\n      <td>3114</td>\n      <td>Toy Story 2 (1999)</td>\n      <td>0.456561</td>\n    </tr>\n    <tr>\n      <th>1</th>\n      <td>1</td>\n      <td>Toy Story (1995)</td>\n      <td>0.468064</td>\n    </tr>\n    <tr>\n      <th>2</th>\n      <td>106022</td>\n      <td>Toy Story of Terror (2013)</td>\n      <td>0.668171</td>\n    </tr>\n    <tr>\n      <th>3</th>\n      <td>4929</td>\n      <td>Toy, The (1982)</td>\n      <td>0.770886</td>\n    </tr>\n    <tr>\n      <th>4</th>\n      <td>120474</td>\n      <td>Toy Story That Time Forgot (2014)</td>\n      <td>0.849089</td>\n    </tr>\n    <tr>\n      <th>5</th>\n      <td>80141</td>\n      <td>Christmas Toy, The (1986)</td>\n      <td>0.887103</td>\n    </tr>\n    <tr>\n      <th>6</th>\n      <td>122078</td>\n      <td>The Toy Wife (1938)</td>\n      <td>0.936509</td>\n    </tr>\n    <tr>\n      <th>7</th>\n      <td>159856</td>\n      <td>The Toy Box (1971)</td>\n      <td>0.939533</td>\n    </tr>\n    <tr>\n      <th>8</th>\n      <td>143537</td>\n      <td>Toy Masters (2014)</td>\n      <td>0.941782</td>\n    </tr>\n    <tr>\n      <th>9</th>\n      <td>5843</td>\n      <td>Toy Soldiers (1991)</td>\n      <td>0.956857</td>\n    </tr>\n  </tbody>\n</table>\n</div>"
     },
     "metadata": {},
     "execution_count": 128
    }
   ],
   "source": [
    "top = NNs[1][0][1:]\n",
    "index_score = NNs[0][0][1:]\n",
    "df_all = metadata[['movieId','title']]\n",
    "recommendation_knn=get_recommendation(top,df_all,index_score)\n",
    "recommendation_knn"
   ]
  },
  {
   "cell_type": "code",
   "execution_count": 118,
   "metadata": {},
   "outputs": [
    {
     "output_type": "execute_result",
     "data": {
      "text/plain": [
       "   userId  movieId  rating   timestamp\n",
       "0       1      307     3.5  1256677221\n",
       "1       1      481     3.5  1256677456\n",
       "2       1     1091     1.5  1256677471\n",
       "3       1     1257     4.5  1256677460\n",
       "4       1     1449     4.5  1256677264"
      ],
      "text/html": "<div>\n<style scoped>\n    .dataframe tbody tr th:only-of-type {\n        vertical-align: middle;\n    }\n\n    .dataframe tbody tr th {\n        vertical-align: top;\n    }\n\n    .dataframe thead th {\n        text-align: right;\n    }\n</style>\n<table border=\"1\" class=\"dataframe\">\n  <thead>\n    <tr style=\"text-align: right;\">\n      <th></th>\n      <th>userId</th>\n      <th>movieId</th>\n      <th>rating</th>\n      <th>timestamp</th>\n    </tr>\n  </thead>\n  <tbody>\n    <tr>\n      <th>0</th>\n      <td>1</td>\n      <td>307</td>\n      <td>3.5</td>\n      <td>1256677221</td>\n    </tr>\n    <tr>\n      <th>1</th>\n      <td>1</td>\n      <td>481</td>\n      <td>3.5</td>\n      <td>1256677456</td>\n    </tr>\n    <tr>\n      <th>2</th>\n      <td>1</td>\n      <td>1091</td>\n      <td>1.5</td>\n      <td>1256677471</td>\n    </tr>\n    <tr>\n      <th>3</th>\n      <td>1</td>\n      <td>1257</td>\n      <td>4.5</td>\n      <td>1256677460</td>\n    </tr>\n    <tr>\n      <th>4</th>\n      <td>1</td>\n      <td>1449</td>\n      <td>4.5</td>\n      <td>1256677264</td>\n    </tr>\n  </tbody>\n</table>\n</div>"
     },
     "metadata": {},
     "execution_count": 118
    }
   ],
   "source": [
    "metadata_rating = pd.read_csv('ratings.csv')\n",
    "metadata_rating.head(5)"
   ]
  },
  {
   "cell_type": "code",
   "execution_count": 129,
   "metadata": {},
   "outputs": [
    {
     "output_type": "execute_result",
     "data": {
      "text/plain": [
       "      userId  movieId  rating   timestamp\n",
       "1291      15        1     4.0  1370810063\n",
       "1292      15       70     2.0  1370808983\n",
       "1293      15      185     3.0  1370810193\n",
       "1294      15      296     5.0  1370809602\n",
       "1295      15      318     4.0  1370809456\n",
       "...      ...      ...     ...         ...\n",
       "1448      15    98809     4.0  1370809831\n",
       "1449      15    98961     3.0  1372872275\n",
       "1450      15    99112     2.5  1372872812\n",
       "1451      15    99114     5.0  1370809675\n",
       "1452      15   100745     5.0  1370810806\n",
       "\n",
       "[162 rows x 4 columns]"
      ],
      "text/html": "<div>\n<style scoped>\n    .dataframe tbody tr th:only-of-type {\n        vertical-align: middle;\n    }\n\n    .dataframe tbody tr th {\n        vertical-align: top;\n    }\n\n    .dataframe thead th {\n        text-align: right;\n    }\n</style>\n<table border=\"1\" class=\"dataframe\">\n  <thead>\n    <tr style=\"text-align: right;\">\n      <th></th>\n      <th>userId</th>\n      <th>movieId</th>\n      <th>rating</th>\n      <th>timestamp</th>\n    </tr>\n  </thead>\n  <tbody>\n    <tr>\n      <th>1291</th>\n      <td>15</td>\n      <td>1</td>\n      <td>4.0</td>\n      <td>1370810063</td>\n    </tr>\n    <tr>\n      <th>1292</th>\n      <td>15</td>\n      <td>70</td>\n      <td>2.0</td>\n      <td>1370808983</td>\n    </tr>\n    <tr>\n      <th>1293</th>\n      <td>15</td>\n      <td>185</td>\n      <td>3.0</td>\n      <td>1370810193</td>\n    </tr>\n    <tr>\n      <th>1294</th>\n      <td>15</td>\n      <td>296</td>\n      <td>5.0</td>\n      <td>1370809602</td>\n    </tr>\n    <tr>\n      <th>1295</th>\n      <td>15</td>\n      <td>318</td>\n      <td>4.0</td>\n      <td>1370809456</td>\n    </tr>\n    <tr>\n      <th>...</th>\n      <td>...</td>\n      <td>...</td>\n      <td>...</td>\n      <td>...</td>\n    </tr>\n    <tr>\n      <th>1448</th>\n      <td>15</td>\n      <td>98809</td>\n      <td>4.0</td>\n      <td>1370809831</td>\n    </tr>\n    <tr>\n      <th>1449</th>\n      <td>15</td>\n      <td>98961</td>\n      <td>3.0</td>\n      <td>1372872275</td>\n    </tr>\n    <tr>\n      <th>1450</th>\n      <td>15</td>\n      <td>99112</td>\n      <td>2.5</td>\n      <td>1372872812</td>\n    </tr>\n    <tr>\n      <th>1451</th>\n      <td>15</td>\n      <td>99114</td>\n      <td>5.0</td>\n      <td>1370809675</td>\n    </tr>\n    <tr>\n      <th>1452</th>\n      <td>15</td>\n      <td>100745</td>\n      <td>5.0</td>\n      <td>1370810806</td>\n    </tr>\n  </tbody>\n</table>\n<p>162 rows × 4 columns</p>\n</div>"
     },
     "metadata": {},
     "execution_count": 129
    }
   ],
   "source": [
    "metadata_user_rating = metadata_rating[metadata_rating.userId==15]\n",
    "metadata_user_rating"
   ]
  },
  {
   "cell_type": "code",
   "execution_count": 130,
   "metadata": {},
   "outputs": [
    {
     "output_type": "execute_result",
     "data": {
      "text/plain": [
       "  movieId               title     score  userId  rating   timestamp\n",
       "0    3114  Toy Story 2 (1999)  0.456561      15     4.0  1370810245\n",
       "1       1    Toy Story (1995)  0.468064      15     4.0  1370810063"
      ],
      "text/html": "<div>\n<style scoped>\n    .dataframe tbody tr th:only-of-type {\n        vertical-align: middle;\n    }\n\n    .dataframe tbody tr th {\n        vertical-align: top;\n    }\n\n    .dataframe thead th {\n        text-align: right;\n    }\n</style>\n<table border=\"1\" class=\"dataframe\">\n  <thead>\n    <tr style=\"text-align: right;\">\n      <th></th>\n      <th>movieId</th>\n      <th>title</th>\n      <th>score</th>\n      <th>userId</th>\n      <th>rating</th>\n      <th>timestamp</th>\n    </tr>\n  </thead>\n  <tbody>\n    <tr>\n      <th>0</th>\n      <td>3114</td>\n      <td>Toy Story 2 (1999)</td>\n      <td>0.456561</td>\n      <td>15</td>\n      <td>4.0</td>\n      <td>1370810245</td>\n    </tr>\n    <tr>\n      <th>1</th>\n      <td>1</td>\n      <td>Toy Story (1995)</td>\n      <td>0.468064</td>\n      <td>15</td>\n      <td>4.0</td>\n      <td>1370810063</td>\n    </tr>\n  </tbody>\n</table>\n</div>"
     },
     "metadata": {},
     "execution_count": 130
    }
   ],
   "source": [
    "recomm_user = pd.merge(recommendation_knn, metadata_user_rating, on=\"movieId\")\n",
    "recomm_user = recomm_user[recomm_user.rating > 3.0]\n",
    "recomm_user"
   ]
  },
  {
   "cell_type": "code",
   "execution_count": 131,
   "metadata": {},
   "outputs": [
    {
     "output_type": "execute_result",
     "data": {
      "text/plain": [
       "10"
      ]
     },
     "metadata": {},
     "execution_count": 131
    }
   ],
   "source": [
    "recommendation_knn_title = recommendation_knn['title']\n",
    "recommendation_knn_title.size"
   ]
  },
  {
   "cell_type": "code",
   "execution_count": 132,
   "metadata": {},
   "outputs": [
    {
     "output_type": "execute_result",
     "data": {
      "text/plain": [
       "10"
      ]
     },
     "metadata": {},
     "execution_count": 132
    }
   ],
   "source": [
    "recommendation_user_title = recomm_user['title']\n",
    "for i in range(recommendation_user_title.size,recommendation_knn_title.size):\n",
    "    recommendation_user_title[i] = \"\"\n",
    "recommendation_user_title.size"
   ]
  },
  {
   "cell_type": "code",
   "execution_count": 134,
   "metadata": {},
   "outputs": [
    {
     "output_type": "execute_result",
     "data": {
      "text/plain": [
       "2"
      ]
     },
     "metadata": {},
     "execution_count": 134
    }
   ],
   "source": [
    "accuracy_score(recommendation_knn_title, recommendation_user_title)"
   ]
  },
  {
   "cell_type": "code",
   "execution_count": 9,
   "metadata": {},
   "outputs": [
    {
     "output_type": "execute_result",
     "data": {
      "text/plain": [
       "    movieId                                             title  rating  \\\n",
       "0       307  Three Colors: Blue (Trois couleurs: Bleu) (1993)     3.5   \n",
       "1       481                                 Kalifornia (1993)     3.5   \n",
       "2      1091                        Weekend at Bernie's (1989)     1.5   \n",
       "3      1257                         Better Off Dead... (1985)     4.5   \n",
       "4      1449                        Waiting for Guffman (1996)     4.5   \n",
       "5      1590                              Event Horizon (1997)     2.5   \n",
       "6      1591                                      Spawn (1997)     1.5   \n",
       "7      2134                              Weird Science (1985)     4.5   \n",
       "8      2478                             ¡Three Amigos! (1986)     4.0   \n",
       "9      2840                                   Stigmata (1999)     3.0   \n",
       "10     2986                                  RoboCop 2 (1990)     2.5   \n",
       "11     3020                               Falling Down (1993)     4.0   \n",
       "12     3424                         Do the Right Thing (1989)     4.5   \n",
       "13     3698                           Running Man, The (1987)     3.5   \n",
       "14     3826                                 Hollow Man (2000)     2.0   \n",
       "15     3893                                Nurse Betty (2000)     3.5   \n",
       "\n",
       "                                 genres  \n",
       "0                                 Drama  \n",
       "1                        Drama|Thriller  \n",
       "2                                Comedy  \n",
       "3                        Comedy|Romance  \n",
       "4                                Comedy  \n",
       "5                Horror|Sci-Fi|Thriller  \n",
       "6      Action|Adventure|Sci-Fi|Thriller  \n",
       "7                 Comedy|Fantasy|Sci-Fi  \n",
       "8                        Comedy|Western  \n",
       "9                        Drama|Thriller  \n",
       "10         Action|Crime|Sci-Fi|Thriller  \n",
       "11                         Action|Drama  \n",
       "12                                Drama  \n",
       "13                        Action|Sci-Fi  \n",
       "14               Horror|Sci-Fi|Thriller  \n",
       "15  Comedy|Crime|Drama|Romance|Thriller  "
      ],
      "text/html": "<div>\n<style scoped>\n    .dataframe tbody tr th:only-of-type {\n        vertical-align: middle;\n    }\n\n    .dataframe tbody tr th {\n        vertical-align: top;\n    }\n\n    .dataframe thead th {\n        text-align: right;\n    }\n</style>\n<table border=\"1\" class=\"dataframe\">\n  <thead>\n    <tr style=\"text-align: right;\">\n      <th></th>\n      <th>movieId</th>\n      <th>title</th>\n      <th>rating</th>\n      <th>genres</th>\n    </tr>\n  </thead>\n  <tbody>\n    <tr>\n      <th>0</th>\n      <td>307</td>\n      <td>Three Colors: Blue (Trois couleurs: Bleu) (1993)</td>\n      <td>3.5</td>\n      <td>Drama</td>\n    </tr>\n    <tr>\n      <th>1</th>\n      <td>481</td>\n      <td>Kalifornia (1993)</td>\n      <td>3.5</td>\n      <td>Drama|Thriller</td>\n    </tr>\n    <tr>\n      <th>2</th>\n      <td>1091</td>\n      <td>Weekend at Bernie's (1989)</td>\n      <td>1.5</td>\n      <td>Comedy</td>\n    </tr>\n    <tr>\n      <th>3</th>\n      <td>1257</td>\n      <td>Better Off Dead... (1985)</td>\n      <td>4.5</td>\n      <td>Comedy|Romance</td>\n    </tr>\n    <tr>\n      <th>4</th>\n      <td>1449</td>\n      <td>Waiting for Guffman (1996)</td>\n      <td>4.5</td>\n      <td>Comedy</td>\n    </tr>\n    <tr>\n      <th>5</th>\n      <td>1590</td>\n      <td>Event Horizon (1997)</td>\n      <td>2.5</td>\n      <td>Horror|Sci-Fi|Thriller</td>\n    </tr>\n    <tr>\n      <th>6</th>\n      <td>1591</td>\n      <td>Spawn (1997)</td>\n      <td>1.5</td>\n      <td>Action|Adventure|Sci-Fi|Thriller</td>\n    </tr>\n    <tr>\n      <th>7</th>\n      <td>2134</td>\n      <td>Weird Science (1985)</td>\n      <td>4.5</td>\n      <td>Comedy|Fantasy|Sci-Fi</td>\n    </tr>\n    <tr>\n      <th>8</th>\n      <td>2478</td>\n      <td>¡Three Amigos! (1986)</td>\n      <td>4.0</td>\n      <td>Comedy|Western</td>\n    </tr>\n    <tr>\n      <th>9</th>\n      <td>2840</td>\n      <td>Stigmata (1999)</td>\n      <td>3.0</td>\n      <td>Drama|Thriller</td>\n    </tr>\n    <tr>\n      <th>10</th>\n      <td>2986</td>\n      <td>RoboCop 2 (1990)</td>\n      <td>2.5</td>\n      <td>Action|Crime|Sci-Fi|Thriller</td>\n    </tr>\n    <tr>\n      <th>11</th>\n      <td>3020</td>\n      <td>Falling Down (1993)</td>\n      <td>4.0</td>\n      <td>Action|Drama</td>\n    </tr>\n    <tr>\n      <th>12</th>\n      <td>3424</td>\n      <td>Do the Right Thing (1989)</td>\n      <td>4.5</td>\n      <td>Drama</td>\n    </tr>\n    <tr>\n      <th>13</th>\n      <td>3698</td>\n      <td>Running Man, The (1987)</td>\n      <td>3.5</td>\n      <td>Action|Sci-Fi</td>\n    </tr>\n    <tr>\n      <th>14</th>\n      <td>3826</td>\n      <td>Hollow Man (2000)</td>\n      <td>2.0</td>\n      <td>Horror|Sci-Fi|Thriller</td>\n    </tr>\n    <tr>\n      <th>15</th>\n      <td>3893</td>\n      <td>Nurse Betty (2000)</td>\n      <td>3.5</td>\n      <td>Comedy|Crime|Drama|Romance|Thriller</td>\n    </tr>\n  </tbody>\n</table>\n</div>"
     },
     "metadata": {},
     "execution_count": 9
    }
   ],
   "source": [
    "metadata_mv = pd.read_csv('movies.csv')\n",
    "user_data_on_tag = metadata_mv.reset_index().merge(metadata_user_rating, on='movieId')\n",
    "user_data_on_tag[['movieId','title','rating','genres']].drop_duplicates()"
   ]
  },
  {
   "cell_type": "code",
   "execution_count": 41,
   "metadata": {},
   "outputs": [],
   "source": [
    "from sklearn.metrics.pairwise import euclidean_distances\n",
    "D = euclidean_distances(tfidf_matrix)\n",
    "metadata_title = metadata[metadata['title'].notnull()].copy()\n",
    "indices = pd.Series(metadata_title['title'])\n",
    "inddict = indices.to_dict()\n",
    "inddict = dict((v,k) for k,v in inddict.items())"
   ]
  },
  {
   "cell_type": "code",
   "execution_count": 11,
   "metadata": {},
   "outputs": [],
   "source": [
    "def recommend_eucledian_distance(title):\n",
    "    ind = inddict[title]\n",
    "    distance = list(enumerate(D[ind]))\n",
    "    distance = sorted(distance, key=lambda x: x[1])\n",
    "    distance = distance[1:6]\n",
    "    movie_index = [i[0] for i in distance]\n",
    "\n",
    "    return metadata_title['title'].iloc[movie_index]"
   ]
  },
  {
   "cell_type": "code",
   "execution_count": 12,
   "metadata": {},
   "outputs": [
    {
     "output_type": "execute_result",
     "data": {
      "text/plain": [
       "42                                     Toy Story 3\n",
       "2656    Chiamatemi Francesco - Il Papa della gente\n",
       "4140                   To Be Frank, Sinatra at 100\n",
       "4401                           The Helix... Loaded\n",
       "4431                                   Food Chains\n",
       "Name: title, dtype: object"
      ]
     },
     "metadata": {},
     "execution_count": 12
    }
   ],
   "source": [
    "recommend_eucledian_distance('Toy Story')"
   ]
  },
  {
   "cell_type": "code",
   "execution_count": null,
   "metadata": {},
   "outputs": [],
   "source": []
  }
 ]
}