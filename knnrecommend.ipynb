{
 "metadata": {
  "language_info": {
   "codemirror_mode": {
    "name": "ipython",
    "version": 3
   },
   "file_extension": ".py",
   "mimetype": "text/x-python",
   "name": "python",
   "nbconvert_exporter": "python",
   "pygments_lexer": "ipython3",
   "version": "3.8.3-final"
  },
  "orig_nbformat": 2,
  "kernelspec": {
   "name": "python3",
   "display_name": "Python 3",
   "language": "python"
  }
 },
 "nbformat": 4,
 "nbformat_minor": 2,
 "cells": [
  {
   "cell_type": "code",
   "execution_count": 139,
   "metadata": {},
   "outputs": [],
   "source": [
    "import pandas as pd \n",
    "from sklearn.feature_extraction.text import TfidfVectorizer\n",
    "from sklearn.neighbors import NearestNeighbors\n",
    "from sklearn.metrics import accuracy_score\n",
    "from sklearn.metrics import precision_recall_fscore_support"
   ]
  },
  {
   "cell_type": "code",
   "execution_count": 22,
   "metadata": {},
   "outputs": [
    {
     "output_type": "execute_result",
     "data": {
      "text/plain": [
       "   movieId                    title  \\\n",
       "0        1         Toy Story (1995)   \n",
       "1        2           Jumanji (1995)   \n",
       "2        3  Grumpier Old Men (1995)   \n",
       "\n",
       "                                        genres  \n",
       "0  Adventure|Animation|Children|Comedy|Fantasy  \n",
       "1                   Adventure|Children|Fantasy  \n",
       "2                               Comedy|Romance  "
      ],
      "text/html": "<div>\n<style scoped>\n    .dataframe tbody tr th:only-of-type {\n        vertical-align: middle;\n    }\n\n    .dataframe tbody tr th {\n        vertical-align: top;\n    }\n\n    .dataframe thead th {\n        text-align: right;\n    }\n</style>\n<table border=\"1\" class=\"dataframe\">\n  <thead>\n    <tr style=\"text-align: right;\">\n      <th></th>\n      <th>movieId</th>\n      <th>title</th>\n      <th>genres</th>\n    </tr>\n  </thead>\n  <tbody>\n    <tr>\n      <th>0</th>\n      <td>1</td>\n      <td>Toy Story (1995)</td>\n      <td>Adventure|Animation|Children|Comedy|Fantasy</td>\n    </tr>\n    <tr>\n      <th>1</th>\n      <td>2</td>\n      <td>Jumanji (1995)</td>\n      <td>Adventure|Children|Fantasy</td>\n    </tr>\n    <tr>\n      <th>2</th>\n      <td>3</td>\n      <td>Grumpier Old Men (1995)</td>\n      <td>Comedy|Romance</td>\n    </tr>\n  </tbody>\n</table>\n</div>"
     },
     "metadata": {},
     "execution_count": 22
    }
   ],
   "source": [
    "metadata = pd.read_csv('movies.csv', low_memory=False)\n",
    "metadata_rating = pd.read_csv('ratings.csv', low_memory=False)\n",
    "metadata.head(3)"
   ]
  },
  {
   "cell_type": "code",
   "execution_count": 90,
   "metadata": {},
   "outputs": [],
   "source": [
    "tfidf = TfidfVectorizer(stop_words='english')\n",
    "metadata['title'] = metadata['title'].fillna('')\n",
    "tfidf_matrix = tfidf.fit_transform(metadata['title'])\n",
    "movie_name=['Toy Story']\n",
    "movie_tfidf = tfidf.transform(movie_name)"
   ]
  },
  {
   "cell_type": "code",
   "execution_count": 126,
   "metadata": {},
   "outputs": [],
   "source": [
    "n_neighbors = 11\n",
    "KNN = NearestNeighbors(n_neighbors,p=2)\n",
    "KNN.fit(tfidf_matrix)\n",
    "NNs = KNN.kneighbors(movie_tfidf,return_distance=True)"
   ]
  },
  {
   "cell_type": "code",
   "execution_count": 127,
   "metadata": {},
   "outputs": [],
   "source": [
    "def get_recommendation(top, df_all, scores):\n",
    "  recommendation = pd.DataFrame(columns = [ 'movieId', 'title'])\n",
    "  count = 0\n",
    "  for i in top:\n",
    "      recommendation.at[count, 'movieId'] = df_all['movieId'][i]\n",
    "      recommendation.at[count, 'title'] = df_all['title'][i]\n",
    "      recommendation.at[count, 'score'] =  scores[count]\n",
    "      count += 1\n",
    "  return recommendation"
   ]
  },
  {
   "cell_type": "code",
   "execution_count": 128,
   "metadata": {},
   "outputs": [
    {
     "output_type": "execute_result",
     "data": {
      "text/plain": [
       "  movieId                              title     score\n",
       "0    3114                 Toy Story 2 (1999)  0.456561\n",
       "1       1                   Toy Story (1995)  0.468064\n",
       "2  106022         Toy Story of Terror (2013)  0.668171\n",
       "3    4929                    Toy, The (1982)  0.770886\n",
       "4  120474  Toy Story That Time Forgot (2014)  0.849089\n",
       "5   80141          Christmas Toy, The (1986)  0.887103\n",
       "6  122078                The Toy Wife (1938)  0.936509\n",
       "7  159856                 The Toy Box (1971)  0.939533\n",
       "8  143537                 Toy Masters (2014)  0.941782\n",
       "9    5843                Toy Soldiers (1991)  0.956857"
      ],
      "text/html": "<div>\n<style scoped>\n    .dataframe tbody tr th:only-of-type {\n        vertical-align: middle;\n    }\n\n    .dataframe tbody tr th {\n        vertical-align: top;\n    }\n\n    .dataframe thead th {\n        text-align: right;\n    }\n</style>\n<table border=\"1\" class=\"dataframe\">\n  <thead>\n    <tr style=\"text-align: right;\">\n      <th></th>\n      <th>movieId</th>\n      <th>title</th>\n      <th>score</th>\n    </tr>\n  </thead>\n  <tbody>\n    <tr>\n      <th>0</th>\n      <td>3114</td>\n      <td>Toy Story 2 (1999)</td>\n      <td>0.456561</td>\n    </tr>\n    <tr>\n      <th>1</th>\n      <td>1</td>\n      <td>Toy Story (1995)</td>\n      <td>0.468064</td>\n    </tr>\n    <tr>\n      <th>2</th>\n      <td>106022</td>\n      <td>Toy Story of Terror (2013)</td>\n      <td>0.668171</td>\n    </tr>\n    <tr>\n      <th>3</th>\n      <td>4929</td>\n      <td>Toy, The (1982)</td>\n      <td>0.770886</td>\n    </tr>\n    <tr>\n      <th>4</th>\n      <td>120474</td>\n      <td>Toy Story That Time Forgot (2014)</td>\n      <td>0.849089</td>\n    </tr>\n    <tr>\n      <th>5</th>\n      <td>80141</td>\n      <td>Christmas Toy, The (1986)</td>\n      <td>0.887103</td>\n    </tr>\n    <tr>\n      <th>6</th>\n      <td>122078</td>\n      <td>The Toy Wife (1938)</td>\n      <td>0.936509</td>\n    </tr>\n    <tr>\n      <th>7</th>\n      <td>159856</td>\n      <td>The Toy Box (1971)</td>\n      <td>0.939533</td>\n    </tr>\n    <tr>\n      <th>8</th>\n      <td>143537</td>\n      <td>Toy Masters (2014)</td>\n      <td>0.941782</td>\n    </tr>\n    <tr>\n      <th>9</th>\n      <td>5843</td>\n      <td>Toy Soldiers (1991)</td>\n      <td>0.956857</td>\n    </tr>\n  </tbody>\n</table>\n</div>"
     },
     "metadata": {},
     "execution_count": 128
    }
   ],
   "source": [
    "top = NNs[1][0][1:]\n",
    "index_score = NNs[0][0][1:]\n",
    "df_all = metadata[['movieId','title']]\n",
    "recommendation_knn=get_recommendation(top,df_all,index_score)\n",
    "recommendation_knn"
   ]
  },
  {
   "cell_type": "code",
   "execution_count": null,
   "metadata": {},
   "outputs": [],
   "source": []
  }
 ]
}