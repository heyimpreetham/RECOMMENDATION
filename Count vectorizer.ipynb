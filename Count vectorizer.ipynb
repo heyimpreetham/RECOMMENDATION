{
 "cells": [
  {
   "cell_type": "code",
   "execution_count": 1,
   "metadata": {},
   "outputs": [],
   "source": [
    "import pandas as pd\n",
    "import numpy as np\n",
    "from tqdm import tqdm\n",
    "import nltk\n",
    "from nltk.corpus import stopwords\n",
    "from nltk.tokenize import word_tokenize\n",
    "import warnings\n",
    "from sklearn.metrics.pairwise import linear_kernel\n"
   ]
  },
  {
   "cell_type": "code",
   "execution_count": 2,
   "metadata": {},
   "outputs": [
    {
     "data": {
      "text/plain": [
       "(4803, 20)"
      ]
     },
     "execution_count": 2,
     "metadata": {},
     "output_type": "execute_result"
    }
   ],
   "source": [
    "df = pd.read_csv('mini_movies.csv')\n",
    "df.shape"
   ]
  },
  {
   "cell_type": "code",
   "execution_count": 3,
   "metadata": {
    "scrolled": false
   },
   "outputs": [
    {
     "data": {
      "text/plain": [
       "budget                     0\n",
       "genres                     0\n",
       "homepage                3091\n",
       "id                         0\n",
       "keywords                   0\n",
       "original_language          0\n",
       "original_title             0\n",
       "overview                   3\n",
       "popularity                 0\n",
       "production_companies       0\n",
       "production_countries       0\n",
       "release_date               1\n",
       "revenue                    0\n",
       "runtime                    2\n",
       "spoken_languages           0\n",
       "status                     0\n",
       "tagline                  844\n",
       "title                      0\n",
       "vote_average               0\n",
       "vote_count                 0\n",
       "dtype: int64"
      ]
     },
     "execution_count": 3,
     "metadata": {},
     "output_type": "execute_result"
    }
   ],
   "source": [
    "df.isnull().sum()\n"
   ]
  },
  {
   "cell_type": "code",
   "execution_count": 4,
   "metadata": {},
   "outputs": [],
   "source": [
    "df['overview']=df['overview'].fillna('')\n"
   ]
  },
  {
   "cell_type": "code",
   "execution_count": 5,
   "metadata": {},
   "outputs": [
    {
     "name": "stdout",
     "output_type": "stream",
     "text": [
      "Shape (4803, 21262)\n",
      "Time taken to run cell: 0:00:00.254849\n"
     ]
    }
   ],
   "source": [
    "from sklearn.feature_extraction.text import TfidfVectorizer\n",
    "from datetime import datetime as dt\n",
    "\n",
    "s=dt.now()\n",
    "\n",
    "vectorizer = TfidfVectorizer()\n",
    "overview_tfidf = vectorizer.fit_transform(df['overview'])\n",
    "print(\"Shape\",overview_tfidf.shape)\n",
    "\n",
    "print(\"Time taken to run cell:\",dt.now() - s)"
   ]
  },
  {
   "cell_type": "code",
   "execution_count": 6,
   "metadata": {},
   "outputs": [],
   "source": [
    "similarity_tfidf  = linear_kernel(overview_tfidf,overview_tfidf)\n",
    "indextitle = pd.Series(df.index, index=df['title']).drop_duplicates()"
   ]
  },
  {
   "cell_type": "code",
   "execution_count": 7,
   "metadata": {},
   "outputs": [],
   "source": [
    "   def tfidf_based_recommendation(title):\n",
    "    \n",
    "    id = indextitle[title]    \n",
    "    \n",
    "    similarity_score = list(enumerate(similarity_tfidf[id]))\n",
    "    \n",
    "    #pair_distance = pairwise_distances(overview_bow,overview_bow[id])\n",
    "    indices = sorted(similarity_score, key=lambda x: x[1], reverse=True)\n",
    "    indices = indices[1:10]\n",
    "    \n",
    "    movie_indices = [i[0] for i in indices]\n",
    "#     print(movie_indices)\n",
    "    df_indices = list(df.index[movie_indices])\n",
    "    print(\"Similar movie of {} are: \\n\".format(df[\"title\"].loc[id]))\n",
    "    for i in range(0,len(indices)):\n",
    "        \n",
    "        print(\"{}\".format(df['title'].loc[df_indices[i]]))"
   ]
  },
  {
   "cell_type": "code",
   "execution_count": 8,
   "metadata": {},
   "outputs": [
    {
     "data": {
      "text/plain": [
       "title\n",
       "Avatar                                         0\n",
       "Pirates of the Caribbean: At World's End       1\n",
       "Spectre                                        2\n",
       "The Dark Knight Rises                          3\n",
       "John Carter                                    4\n",
       "                                            ... \n",
       "El Mariachi                                 4798\n",
       "Newlyweds                                   4799\n",
       "Signed, Sealed, Delivered                   4800\n",
       "Shanghai Calling                            4801\n",
       "My Date with Drew                           4802\n",
       "Length: 4803, dtype: int64"
      ]
     },
     "execution_count": 8,
     "metadata": {},
     "output_type": "execute_result"
    }
   ],
   "source": [
    "indextitle"
   ]
  },
  {
   "cell_type": "code",
   "execution_count": 9,
   "metadata": {},
   "outputs": [
    {
     "name": "stdout",
     "output_type": "stream",
     "text": [
      "Similar movie of Avatar are: \n",
      "\n",
      "Apollo 18\n",
      "Tears of the Sun\n",
      "The American\n",
      "The Inhabited Island\n",
      "The Matrix\n",
      "Blood and Chocolate\n",
      "Semi-Pro\n",
      "The Adventures of Pluto Nash\n",
      "The Book of Life\n"
     ]
    }
   ],
   "source": [
    "tfidf_based_recommendation('Avatar')\n"
   ]
  },
  {
   "cell_type": "markdown",
   "metadata": {},
   "source": [
    "# COUNT VECTORIZER"
   ]
  },
  {
   "cell_type": "code",
   "execution_count": 10,
   "metadata": {},
   "outputs": [
    {
     "data": {
      "text/html": [
       "<div>\n",
       "<style scoped>\n",
       "    .dataframe tbody tr th:only-of-type {\n",
       "        vertical-align: middle;\n",
       "    }\n",
       "\n",
       "    .dataframe tbody tr th {\n",
       "        vertical-align: top;\n",
       "    }\n",
       "\n",
       "    .dataframe thead th {\n",
       "        text-align: right;\n",
       "    }\n",
       "</style>\n",
       "<table border=\"1\" class=\"dataframe\">\n",
       "  <thead>\n",
       "    <tr style=\"text-align: right;\">\n",
       "      <th></th>\n",
       "      <th>00</th>\n",
       "      <th>000</th>\n",
       "      <th>007</th>\n",
       "      <th>07am</th>\n",
       "      <th>10</th>\n",
       "      <th>100</th>\n",
       "      <th>1000</th>\n",
       "      <th>101</th>\n",
       "      <th>108</th>\n",
       "      <th>10th</th>\n",
       "      <th>...</th>\n",
       "      <th>zuckerberg</th>\n",
       "      <th>zula</th>\n",
       "      <th>zuzu</th>\n",
       "      <th>zyklon</th>\n",
       "      <th>æon</th>\n",
       "      <th>éloigne</th>\n",
       "      <th>émigré</th>\n",
       "      <th>été</th>\n",
       "      <th>única</th>\n",
       "      <th>über</th>\n",
       "    </tr>\n",
       "  </thead>\n",
       "  <tbody>\n",
       "    <tr>\n",
       "      <th>0</th>\n",
       "      <td>0</td>\n",
       "      <td>0</td>\n",
       "      <td>0</td>\n",
       "      <td>0</td>\n",
       "      <td>0</td>\n",
       "      <td>0</td>\n",
       "      <td>0</td>\n",
       "      <td>0</td>\n",
       "      <td>0</td>\n",
       "      <td>0</td>\n",
       "      <td>...</td>\n",
       "      <td>0</td>\n",
       "      <td>0</td>\n",
       "      <td>0</td>\n",
       "      <td>0</td>\n",
       "      <td>0</td>\n",
       "      <td>0</td>\n",
       "      <td>0</td>\n",
       "      <td>0</td>\n",
       "      <td>0</td>\n",
       "      <td>0</td>\n",
       "    </tr>\n",
       "    <tr>\n",
       "      <th>1</th>\n",
       "      <td>0</td>\n",
       "      <td>0</td>\n",
       "      <td>0</td>\n",
       "      <td>0</td>\n",
       "      <td>0</td>\n",
       "      <td>0</td>\n",
       "      <td>0</td>\n",
       "      <td>0</td>\n",
       "      <td>0</td>\n",
       "      <td>0</td>\n",
       "      <td>...</td>\n",
       "      <td>0</td>\n",
       "      <td>0</td>\n",
       "      <td>0</td>\n",
       "      <td>0</td>\n",
       "      <td>0</td>\n",
       "      <td>0</td>\n",
       "      <td>0</td>\n",
       "      <td>0</td>\n",
       "      <td>0</td>\n",
       "      <td>0</td>\n",
       "    </tr>\n",
       "    <tr>\n",
       "      <th>2</th>\n",
       "      <td>0</td>\n",
       "      <td>0</td>\n",
       "      <td>0</td>\n",
       "      <td>0</td>\n",
       "      <td>0</td>\n",
       "      <td>0</td>\n",
       "      <td>0</td>\n",
       "      <td>0</td>\n",
       "      <td>0</td>\n",
       "      <td>0</td>\n",
       "      <td>...</td>\n",
       "      <td>0</td>\n",
       "      <td>0</td>\n",
       "      <td>0</td>\n",
       "      <td>0</td>\n",
       "      <td>0</td>\n",
       "      <td>0</td>\n",
       "      <td>0</td>\n",
       "      <td>0</td>\n",
       "      <td>0</td>\n",
       "      <td>0</td>\n",
       "    </tr>\n",
       "    <tr>\n",
       "      <th>3</th>\n",
       "      <td>0</td>\n",
       "      <td>0</td>\n",
       "      <td>0</td>\n",
       "      <td>0</td>\n",
       "      <td>0</td>\n",
       "      <td>0</td>\n",
       "      <td>0</td>\n",
       "      <td>0</td>\n",
       "      <td>0</td>\n",
       "      <td>0</td>\n",
       "      <td>...</td>\n",
       "      <td>0</td>\n",
       "      <td>0</td>\n",
       "      <td>0</td>\n",
       "      <td>0</td>\n",
       "      <td>0</td>\n",
       "      <td>0</td>\n",
       "      <td>0</td>\n",
       "      <td>0</td>\n",
       "      <td>0</td>\n",
       "      <td>0</td>\n",
       "    </tr>\n",
       "    <tr>\n",
       "      <th>4</th>\n",
       "      <td>0</td>\n",
       "      <td>0</td>\n",
       "      <td>0</td>\n",
       "      <td>0</td>\n",
       "      <td>0</td>\n",
       "      <td>0</td>\n",
       "      <td>0</td>\n",
       "      <td>0</td>\n",
       "      <td>0</td>\n",
       "      <td>0</td>\n",
       "      <td>...</td>\n",
       "      <td>0</td>\n",
       "      <td>0</td>\n",
       "      <td>0</td>\n",
       "      <td>0</td>\n",
       "      <td>0</td>\n",
       "      <td>0</td>\n",
       "      <td>0</td>\n",
       "      <td>0</td>\n",
       "      <td>0</td>\n",
       "      <td>0</td>\n",
       "    </tr>\n",
       "  </tbody>\n",
       "</table>\n",
       "<p>5 rows × 21262 columns</p>\n",
       "</div>"
      ],
      "text/plain": [
       "   00  000  007  07am  10  100  1000  101  108  10th  ...  zuckerberg  zula  \\\n",
       "0   0    0    0     0   0    0     0    0    0     0  ...           0     0   \n",
       "1   0    0    0     0   0    0     0    0    0     0  ...           0     0   \n",
       "2   0    0    0     0   0    0     0    0    0     0  ...           0     0   \n",
       "3   0    0    0     0   0    0     0    0    0     0  ...           0     0   \n",
       "4   0    0    0     0   0    0     0    0    0     0  ...           0     0   \n",
       "\n",
       "   zuzu  zyklon  æon  éloigne  émigré  été  única  über  \n",
       "0     0       0    0        0       0    0      0     0  \n",
       "1     0       0    0        0       0    0      0     0  \n",
       "2     0       0    0        0       0    0      0     0  \n",
       "3     0       0    0        0       0    0      0     0  \n",
       "4     0       0    0        0       0    0      0     0  \n",
       "\n",
       "[5 rows x 21262 columns]"
      ]
     },
     "execution_count": 10,
     "metadata": {},
     "output_type": "execute_result"
    }
   ],
   "source": [
    "from sklearn.feature_extraction.text import CountVectorizer\n",
    "\n",
    "vectorizer = CountVectorizer()\n",
    "title_bow = vectorizer.fit_transform(df['overview'])\n",
    "df1 = pd.DataFrame(title_bow.toarray(),columns = vectorizer.get_feature_names())\n",
    "df1.head()"
   ]
  },
  {
   "cell_type": "code",
   "execution_count": 11,
   "metadata": {},
   "outputs": [],
   "source": [
    "similarity  = linear_kernel(title_bow,title_bow)"
   ]
  },
  {
   "cell_type": "code",
   "execution_count": 12,
   "metadata": {
    "scrolled": true
   },
   "outputs": [
    {
     "name": "stdout",
     "output_type": "stream",
     "text": [
      "title\n",
      "Avatar                                      0\n",
      "Pirates of the Caribbean: At World's End    1\n",
      "Spectre                                     2\n",
      "The Dark Knight Rises                       3\n",
      "John Carter                                 4\n",
      "dtype: int64\n",
      "4803\n"
     ]
    }
   ],
   "source": [
    "indextitle = pd.Series(df.index, index=df['title']).drop_duplicates()\n",
    "print(indextitle.head())\n",
    "print(indextitle.size)"
   ]
  },
  {
   "cell_type": "code",
   "execution_count": 13,
   "metadata": {},
   "outputs": [],
   "source": [
    "def bag_of_words(title):\n",
    "    \n",
    "    id = indextitle[title]    \n",
    "    \n",
    "    similarity_score = list(enumerate(similarity[id]))\n",
    "    print(pd.DataFrame(similarity_score))\n",
    "    \n",
    "    indices = sorted(similarity_score, key=lambda x: x[1], reverse=True)\n",
    "    indices = indices[1:10]\n",
    "    \n",
    "    movie_indices = [i[0] for i in indices]\n",
    "    \n",
    "    df_indices = list(df.index[movie_indices])\n",
    "    \n",
    "    print(\"Similar movie of {} are: \\n\".format(df[\"title\"].loc[id]))\n",
    "    \n",
    "    for i in range(0,len(indices)):\n",
    "        print(\"{}\".format(df['title'].loc[df_indices[i]]))"
   ]
  },
  {
   "cell_type": "code",
   "execution_count": 14,
   "metadata": {
    "scrolled": false
   },
   "outputs": [
    {
     "name": "stdout",
     "output_type": "stream",
     "text": [
      "         0     1\n",
      "0        0   9.0\n",
      "1        1  11.0\n",
      "2        2  11.0\n",
      "3        3  18.0\n",
      "4        4  23.0\n",
      "...    ...   ...\n",
      "4798  4798  27.0\n",
      "4799  4799   6.0\n",
      "4800  4800  24.0\n",
      "4801  4801  17.0\n",
      "4802  4802  14.0\n",
      "\n",
      "[4803 rows x 2 columns]\n",
      "Similar movie of Toy Story are: \n",
      "\n",
      "The Midnight Meat Train\n",
      "The Work and the Glory II: American Zion\n",
      "Semi-Pro\n",
      "Toy Story\n",
      "Roadside Romeo\n",
      "The Little Ponderosa Zoo\n",
      "Thank You for Smoking\n",
      "The Book of Mormon Movie, Volume 1: The Journey\n",
      "Once in a Lifetime: The Extraordinary Story of the New York Cosmos\n"
     ]
    }
   ],
   "source": [
    "bag_of_words('Toy Story')\n"
   ]
  },
  {
   "cell_type": "code",
   "execution_count": 15,
   "metadata": {
    "scrolled": false
   },
   "outputs": [
    {
     "name": "stdout",
     "output_type": "stream",
     "text": [
      "         0      1\n",
      "0        0   54.0\n",
      "1        1   85.0\n",
      "2        2   78.0\n",
      "3        3  141.0\n",
      "4        4  131.0\n",
      "...    ...    ...\n",
      "4798  4798  149.0\n",
      "4799  4799   27.0\n",
      "4800  4800  140.0\n",
      "4801  4801  103.0\n",
      "4802  4802  100.0\n",
      "\n",
      "[4803 rows x 2 columns]\n",
      "Similar movie of Roadside Romeo are: \n",
      "\n",
      "The Midnight Meat Train\n",
      "Gladiator\n",
      "The Work and the Glory II: American Zion\n",
      "Semi-Pro\n",
      "The Book of Mormon Movie, Volume 1: The Journey\n",
      "The Thief and the Cobbler\n",
      "Once in a Lifetime: The Extraordinary Story of the New York Cosmos\n",
      "The Little Ponderosa Zoo\n",
      "Thank You for Smoking\n"
     ]
    }
   ],
   "source": [
    "bag_of_words('Roadside Romeo')\n"
   ]
  },
  {
   "cell_type": "markdown",
   "metadata": {},
   "source": [
    "# word to vector"
   ]
  },
  {
   "cell_type": "code",
   "execution_count": 16,
   "metadata": {
    "scrolled": false
   },
   "outputs": [
    {
     "name": "stderr",
     "output_type": "stream",
     "text": [
      "100%|██████████████████████████████████████████████████████████████████████████| 4803/4803 [00:00<00:00, 150498.23it/s]\n"
     ]
    }
   ],
   "source": [
    "from tqdm import tqdm\n",
    "overview_list = []\n",
    "\n",
    "for sent in tqdm(df['overview']):\n",
    "    overview_list.append(sent.split())"
   ]
  },
  {
   "cell_type": "code",
   "execution_count": 17,
   "metadata": {},
   "outputs": [
    {
     "name": "stdout",
     "output_type": "stream",
     "text": [
      "5598\n"
     ]
    }
   ],
   "source": [
    "from gensim.models import Word2Vec\n",
    "import warnings\n",
    "warnings.filterwarnings(\"ignore\")\n",
    "\n",
    "w2vmodel=Word2Vec(overview_list,min_count=5,size=50,workers=4)\n",
    "w2v_words = list(w2vmodel.wv.vocab)\n",
    "print(len(w2v_words))"
   ]
  },
  {
   "cell_type": "code",
   "execution_count": 18,
   "metadata": {},
   "outputs": [
    {
     "name": "stderr",
     "output_type": "stream",
     "text": [
      "100%|██████████████████████████████████████████████████████████████████████████████| 4803/4803 [01:48<00:00, 44.17it/s]\n"
     ]
    }
   ],
   "source": [
    "overview_vector=[]\n",
    "for sent in tqdm(df['overview']):\n",
    "    sent_vec=np.zeros(50)\n",
    "    count=0\n",
    "    for word in sent:\n",
    "        if word in w2v_words:\n",
    "            vec = w2vmodel.wv[word]\n",
    "            sent_vec+=vec\n",
    "            count+=1\n",
    "    if count !=0:\n",
    "        sent_vec/=count\n",
    "    overview_vector.append(sent_vec)"
   ]
  },
  {
   "cell_type": "code",
   "execution_count": 14,
   "metadata": {},
   "outputs": [],
   "source": [
    "similarity_w2vec  = linear_kernel(overview_vector,overview_vector)\n"
   ]
  },
  {
   "cell_type": "code",
   "execution_count": 15,
   "metadata": {},
   "outputs": [],
   "source": [
    "def w2v_based_recommendation(title):\n",
    "    \n",
    "    id = indextitle[title]    \n",
    "    \n",
    "    similarity_score = list(enumerate(similarity_w2vec[id]))\n",
    "    \n",
    "    #pair_distance = pairwise_distances(overview_bow,overview_bow[id])\n",
    "    indices = sorted(similarity_score, key=lambda x: x[1], reverse=True)\n",
    "    indices = indices[1:10]\n",
    "    \n",
    "    movie_indices = [i[0] for i in indices]\n",
    "#     print(movie_indices)\n",
    "    df_indices = list(df.index[movie_indices])\n",
    "    print(\"Similar movie of {} are: \\n\".format(df[\"title\"].loc[id]))\n",
    "    for i in range(0,len(indices)):\n",
    "        \n",
    "        print(\"{}\".format(df['title'].loc[df_indices[i]]))"
   ]
  },
  {
   "cell_type": "code",
   "execution_count": 17,
   "metadata": {
    "scrolled": true
   },
   "outputs": [
    {
     "name": "stdout",
     "output_type": "stream",
     "text": [
      "Similar movie of Avatar are: \n",
      "\n",
      "Jesus' Son\n",
      "Harrison Montgomery\n",
      "Gone with the Wind\n",
      "Basic\n",
      "Good bye, Lenin!\n",
      "The Man\n",
      "The Island of Dr. Moreau\n",
      "The Great Debaters\n",
      "Torn Curtain\n"
     ]
    }
   ],
   "source": [
    "w2v_based_recommendation('Avatar')\n"
   ]
  },
  {
   "cell_type": "code",
   "execution_count": 34,
   "metadata": {
    "scrolled": false
   },
   "outputs": [
    {
     "name": "stdout",
     "output_type": "stream",
     "text": [
      "Similar movie of Toy Story are: \n",
      "\n",
      "Jesus' Son\n",
      "Harrison Montgomery\n",
      "Gone with the Wind\n",
      "Basic\n",
      "The Man\n",
      "Good bye, Lenin!\n",
      "The Island of Dr. Moreau\n",
      "The Great Debaters\n",
      "Torn Curtain\n"
     ]
    }
   ],
   "source": [
    "w2v_based_recommendation('Toy Story')"
   ]
  }
 ],
 "metadata": {
  "kernelspec": {
   "display_name": "Python 3",
   "language": "python",
   "name": "python3"
  },
  "language_info": {
   "codemirror_mode": {
    "name": "ipython",
    "version": 3
   },
   "file_extension": ".py",
   "mimetype": "text/x-python",
   "name": "python",
   "nbconvert_exporter": "python",
   "pygments_lexer": "ipython3",
   "version": "3.8.5"
  }
 },
 "nbformat": 4,
 "nbformat_minor": 4
}
